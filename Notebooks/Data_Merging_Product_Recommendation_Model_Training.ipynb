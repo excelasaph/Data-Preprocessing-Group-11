{
  "nbformat": 4,
  "nbformat_minor": 0,
  "metadata": {
    "colab": {
      "provenance": [],
      "authorship_tag": "ABX9TyP9senXXiUCfzhnRJMNtKQg",
      "include_colab_link": true
    },
    "kernelspec": {
      "name": "python3",
      "display_name": "Python 3"
    },
    "language_info": {
      "name": "python"
    }
  },
  "cells": [
    {
      "cell_type": "markdown",
      "metadata": {
        "id": "view-in-github",
        "colab_type": "text"
      },
      "source": [
        "<a href=\"https://colab.research.google.com/github/excelasaph/Data-Preprocessing-Group-11/blob/main/Data_Merging_Product_Recommendation_Model_Training.ipynb\" target=\"_parent\"><img src=\"https://colab.research.google.com/assets/colab-badge.svg\" alt=\"Open In Colab\"/></a>"
      ]
    },
    {
      "cell_type": "markdown",
      "source": [
        "## Data Merge\n",
        "### Merge `customer_social_profiles.csv` and `customer_transactions.csv` to create a dataset for the Product Recommendation Model, capturing relevant features."
      ],
      "metadata": {
        "id": "iFgjBZ9vuw1a"
      }
    },
    {
      "cell_type": "markdown",
      "source": [
        "### Import Libraries\n",
        "#### Load necessary Python libraries for data manipulation, visualization, and scaling."
      ],
      "metadata": {
        "id": "UJrabMH6qAQ4"
      }
    },
    {
      "cell_type": "code",
      "execution_count": 299,
      "metadata": {
        "id": "CRriJ4KLpuqd"
      },
      "outputs": [],
      "source": [
        "import pandas as pd\n",
        "import matplotlib.pyplot as plt\n",
        "from sklearn.preprocessing import MinMaxScaler\n",
        "from datetime import datetime\n",
        "import seaborn as sns\n",
        "from sklearn.model_selection import train_test_split\n",
        "from sklearn.model_selection import GridSearchCV\n",
        "from sklearn.ensemble import RandomForestClassifier\n",
        "from sklearn.metrics import accuracy_score, f1_score\n",
        "import joblib"
      ]
    },
    {
      "cell_type": "markdown",
      "source": [
        "### Load Datasets\n",
        "#### Read the CSV files into pandas DataFrames."
      ],
      "metadata": {
        "id": "-ogk-KU2qOL-"
      }
    },
    {
      "cell_type": "code",
      "source": [
        "social = pd.read_csv('/content/customer_social_profiles - customer_social_profiles.csv')\n",
        "transactions = pd.read_csv('/content/customer_transactions - customer_transactions.csv')"
      ],
      "metadata": {
        "id": "wiBCiduAqAu4"
      },
      "execution_count": 300,
      "outputs": []
    },
    {
      "cell_type": "code",
      "source": [
        "print(\"Social Data Head:\")\n",
        "print(social.head())\n",
        "print(\"\\nTransactions Data Head:\")\n",
        "print(transactions.head())"
      ],
      "metadata": {
        "colab": {
          "base_uri": "https://localhost:8080/"
        },
        "id": "qdWiUTjGqOyI",
        "outputId": "fe7fe457-e9df-4e59-dd06-286c52a49f58"
      },
      "execution_count": 301,
      "outputs": [
        {
          "output_type": "stream",
          "name": "stdout",
          "text": [
            "Social Data Head:\n",
            "  customer_id_new social_media_platform  engagement_score  \\\n",
            "0            A178              LinkedIn                74   \n",
            "1            A190               Twitter                82   \n",
            "2            A150              Facebook                96   \n",
            "3            A162               Twitter                89   \n",
            "4            A197               Twitter                92   \n",
            "\n",
            "   purchase_interest_score review_sentiment  \n",
            "0                      4.9         Positive  \n",
            "1                      4.8          Neutral  \n",
            "2                      1.6         Positive  \n",
            "3                      2.6         Positive  \n",
            "4                      2.3          Neutral  \n",
            "\n",
            "Transactions Data Head:\n",
            "   customer_id_legacy  transaction_id  purchase_amount purchase_date  \\\n",
            "0                 151            1001              408    2024-01-01   \n",
            "1                 192            1002              332    2024-01-02   \n",
            "2                 114            1003              442    2024-01-03   \n",
            "3                 171            1004              256    2024-01-04   \n",
            "4                 160            1005               64    2024-01-05   \n",
            "\n",
            "  product_category  customer_rating  \n",
            "0           Sports              2.3  \n",
            "1      Electronics              4.2  \n",
            "2      Electronics              2.1  \n",
            "3         Clothing              2.8  \n",
            "4         Clothing              1.3  \n"
          ]
        }
      ]
    },
    {
      "cell_type": "markdown",
      "source": [
        "### Exploratory Data Analysis (EDA)\n",
        "#### Analyze data structure, statistics, and relationships (Exemplary requires summary stats, variable types, ≥3 labeled plots)."
      ],
      "metadata": {
        "id": "S3U9Xdt-qkam"
      }
    },
    {
      "cell_type": "markdown",
      "source": [
        "###### Summary Statistics:"
      ],
      "metadata": {
        "id": "qU25qM3kquno"
      }
    },
    {
      "cell_type": "code",
      "source": [
        "print(\"Social Data Summary:\")\n",
        "print(social.describe(include='all'))\n",
        "print(\"\\nTransactions Data Summary:\")\n",
        "print(transactions.describe(include='all'))"
      ],
      "metadata": {
        "colab": {
          "base_uri": "https://localhost:8080/"
        },
        "id": "DrSsmvdKqZx4",
        "outputId": "efbfea1d-a4e3-4c70-9d8e-0c4a9e93f0ad"
      },
      "execution_count": 302,
      "outputs": [
        {
          "output_type": "stream",
          "name": "stdout",
          "text": [
            "Social Data Summary:\n",
            "       customer_id_new social_media_platform  engagement_score  \\\n",
            "count              155                   155        155.000000   \n",
            "unique              84                     5               NaN   \n",
            "top               A155               Twitter               NaN   \n",
            "freq                 7                    38               NaN   \n",
            "mean               NaN                   NaN         75.606452   \n",
            "std                NaN                   NaN         14.568021   \n",
            "min                NaN                   NaN         50.000000   \n",
            "25%                NaN                   NaN         63.500000   \n",
            "50%                NaN                   NaN         77.000000   \n",
            "75%                NaN                   NaN         87.500000   \n",
            "max                NaN                   NaN         99.000000   \n",
            "\n",
            "        purchase_interest_score review_sentiment  \n",
            "count                155.000000              155  \n",
            "unique                      NaN                3  \n",
            "top                         NaN         Positive  \n",
            "freq                        NaN               63  \n",
            "mean                   3.152903              NaN  \n",
            "std                    1.142867              NaN  \n",
            "min                    1.000000              NaN  \n",
            "25%                    2.350000              NaN  \n",
            "50%                    3.200000              NaN  \n",
            "75%                    4.100000              NaN  \n",
            "max                    5.000000              NaN  \n",
            "\n",
            "Transactions Data Summary:\n",
            "        customer_id_legacy  transaction_id  purchase_amount purchase_date  \\\n",
            "count           150.000000      150.000000       150.000000           150   \n",
            "unique                 NaN             NaN              NaN           150   \n",
            "top                    NaN             NaN              NaN    2024-01-01   \n",
            "freq                   NaN             NaN              NaN             1   \n",
            "mean            148.760000     1075.500000       280.780000           NaN   \n",
            "std              30.046425       43.445368       121.329595           NaN   \n",
            "min             100.000000     1001.000000        51.000000           NaN   \n",
            "25%             121.250000     1038.250000       179.000000           NaN   \n",
            "50%             150.500000     1075.500000       274.000000           NaN   \n",
            "75%             174.750000     1112.750000       388.500000           NaN   \n",
            "max             199.000000     1150.000000       495.000000           NaN   \n",
            "\n",
            "       product_category  customer_rating  \n",
            "count               150        140.00000  \n",
            "unique                5              NaN  \n",
            "top              Sports              NaN  \n",
            "freq                 35              NaN  \n",
            "mean                NaN          2.98500  \n",
            "std                 NaN          1.20699  \n",
            "min                 NaN          1.00000  \n",
            "25%                 NaN          1.95000  \n",
            "50%                 NaN          3.00000  \n",
            "75%                 NaN          4.00000  \n",
            "max                 NaN          5.00000  \n"
          ]
        }
      ]
    },
    {
      "cell_type": "markdown",
      "source": [
        "##### Distribution Plot (Engagement Score):"
      ],
      "metadata": {
        "id": "1YDOjz8Zq7vW"
      }
    },
    {
      "cell_type": "code",
      "source": [
        "#Distribution of Engagement Score\n",
        "plt.figure(figsize=(8, 5))\n",
        "social['engagement_score'].hist(bins=10)\n",
        "plt.title('Distribution of Engagement Score')\n",
        "plt.xlabel('Engagement Score')\n",
        "plt.ylabel('Count')\n",
        "plt.show()"
      ],
      "metadata": {
        "colab": {
          "base_uri": "https://localhost:8080/",
          "height": 487
        },
        "id": "29heO965qlQe",
        "outputId": "d4c79f85-1732-4931-80c7-169ca116ddd9"
      },
      "execution_count": 303,
      "outputs": [
        {
          "output_type": "display_data",
          "data": {
            "text/plain": [
              "<Figure size 800x500 with 1 Axes>"
            ],
            "image/png": "[encoded data removed]"
          },
          "metadata": {}
        }
      ]
    },
    {
      "cell_type": "markdown",
      "source": [
        "##### Outlier Plot (Purchase Amount):"
      ],
      "metadata": {
        "id": "03HGuWHarb9s"
      }
    },
    {
      "cell_type": "code",
      "source": [
        "#Boxplot of Purchase Amount\n",
        "plt.figure(figsize=(8, 5))\n",
        "transactions.boxplot(column='purchase_amount')\n",
        "plt.title('Boxplot of Purchase Amount')\n",
        "plt.ylabel('Amount')\n",
        "plt.show()"
      ],
      "metadata": {
        "colab": {
          "base_uri": "https://localhost:8080/",
          "height": 468
        },
        "id": "JAMaZooDsxfp",
        "outputId": "467b6659-4d77-4c46-ab36-0e6bcba2d4af"
      },
      "execution_count": 304,
      "outputs": [
        {
          "output_type": "display_data",
          "data": {
            "text/plain": [
              "<Figure size 800x500 with 1 Axes>"
            ],
            "image/png": "[encoded data removed]"
          },
          "metadata": {}
        }
      ]
    },
    {
      "cell_type": "markdown",
      "source": [
        "### Check for Missing Values and Duplicates\n",
        "#### Identify data quality issues (Exemplary requires handling nulls/duplicates)."
      ],
      "metadata": {
        "id": "Pn3gtkB9tBzK"
      }
    },
    {
      "cell_type": "code",
      "source": [
        "print(\"Social Missing Values:\")\n",
        "print(social.isnull().sum())\n",
        "print(\"Transactions Missing Values:\")\n",
        "print(transactions.isnull().sum())\n",
        "print(f\"Social duplicates: {social.duplicated(subset=['customer_id_new']).sum()}\")\n",
        "print(f\"Transactions duplicates: {transactions.duplicated(subset=['customer_id_legacy']).sum()}\")"
      ],
      "metadata": {
        "colab": {
          "base_uri": "https://localhost:8080/"
        },
        "id": "nxAJXeFss9O7",
        "outputId": "22e40b7a-bec6-46f4-a258-64536841c5a7"
      },
      "execution_count": 305,
      "outputs": [
        {
          "output_type": "stream",
          "name": "stdout",
          "text": [
            "Social Missing Values:\n",
            "customer_id_new            0\n",
            "social_media_platform      0\n",
            "engagement_score           0\n",
            "purchase_interest_score    0\n",
            "review_sentiment           0\n",
            "dtype: int64\n",
            "Transactions Missing Values:\n",
            "customer_id_legacy     0\n",
            "transaction_id         0\n",
            "purchase_amount        0\n",
            "purchase_date          0\n",
            "product_category       0\n",
            "customer_rating       10\n",
            "dtype: int64\n",
            "Social duplicates: 71\n",
            "Transactions duplicates: 75\n"
          ]
        }
      ]
    },
    {
      "cell_type": "markdown",
      "source": [
        "### Data Cleaning\n",
        "#### Prepare datasets for merging by handling duplicates and nulls."
      ],
      "metadata": {
        "id": "MV2NIvijtmMz"
      }
    },
    {
      "cell_type": "markdown",
      "source": [
        "##### Deduplicate `social`"
      ],
      "metadata": {
        "id": "88ClakCat18W"
      }
    },
    {
      "cell_type": "code",
      "source": [
        "social_clean = social.groupby('customer_id_new').agg({\n",
        "    'engagement_score': 'mean',\n",
        "    'purchase_interest_score': 'mean',\n",
        "    'review_sentiment': lambda x: x.mode()[0] if not x.mode().empty else x.iloc[0],\n",
        "    'social_media_platform': lambda x: x.mode()[0] if not x.mode().empty else x.iloc[0]\n",
        "}).reset_index()\n",
        "print(f\"Rows after deduplication: {len(social_clean)}\")"
      ],
      "metadata": {
        "colab": {
          "base_uri": "https://localhost:8080/"
        },
        "id": "FgiqN99wtJQi",
        "outputId": "329c58cc-7e9c-4d39-bd0e-fc91cbae322e"
      },
      "execution_count": 306,
      "outputs": [
        {
          "output_type": "stream",
          "name": "stdout",
          "text": [
            "Rows after deduplication: 84\n"
          ]
        }
      ]
    },
    {
      "cell_type": "markdown",
      "source": [
        "##### Impute missing `customer_rating` in `transactions`"
      ],
      "metadata": {
        "id": "kusxUc2at87W"
      }
    },
    {
      "cell_type": "code",
      "source": [
        "transactions['customer_rating'] = transactions['customer_rating'].fillna(transactions['customer_rating'].median())\n",
        "print(\"Transactions Missing Values after Imputation:\")\n",
        "print(transactions.isnull().sum())"
      ],
      "metadata": {
        "colab": {
          "base_uri": "https://localhost:8080/"
        },
        "id": "LdDXjZN7tQlY",
        "outputId": "75269608-5919-407f-9d7a-4c7a137e96ab"
      },
      "execution_count": 307,
      "outputs": [
        {
          "output_type": "stream",
          "name": "stdout",
          "text": [
            "Transactions Missing Values after Imputation:\n",
            "customer_id_legacy    0\n",
            "transaction_id        0\n",
            "purchase_amount       0\n",
            "purchase_date         0\n",
            "product_category      0\n",
            "customer_rating       0\n",
            "dtype: int64\n"
          ]
        }
      ]
    },
    {
      "cell_type": "markdown",
      "source": [
        "##### Aggregate `transactions` duplicates"
      ],
      "metadata": {
        "id": "kr4K7n-SuE6J"
      }
    },
    {
      "cell_type": "code",
      "source": [
        "transactions_clean = transactions.groupby('customer_id_legacy').agg({\n",
        "    'transaction_id': 'count',\n",
        "    'purchase_amount': 'sum',\n",
        "    'purchase_date': 'max',\n",
        "    'product_category': lambda x: x.mode()[0] if not x.mode().empty else x.iloc[0],\n",
        "    'customer_rating': 'mean'\n",
        "}).reset_index().rename(columns={'transaction_id': 'transaction_count'})\n",
        "print(f\"Rows after aggregation: {len(transactions_clean)}\")  # Should be 75"
      ],
      "metadata": {
        "colab": {
          "base_uri": "https://localhost:8080/"
        },
        "id": "vbgS9NW9tWBT",
        "outputId": "8476f520-f4a7-4794-8da6-77c6219b1fd1"
      },
      "execution_count": 308,
      "outputs": [
        {
          "output_type": "stream",
          "name": "stdout",
          "text": [
            "Rows after aggregation: 75\n"
          ]
        }
      ]
    },
    {
      "cell_type": "markdown",
      "source": [
        "### Align Customer IDs\n",
        "#### Match `customer_id_new` (e.g., A155) with `customer_id_legacy` (e.g., 155)"
      ],
      "metadata": {
        "id": "AFsNf7JKuz4h"
      }
    },
    {
      "cell_type": "code",
      "source": [
        "social_clean['customer_id'] = social_clean['customer_id_new'].str.replace('A', '').astype(int)\n",
        "print(\"Customer ID Overlap Check:\")\n",
        "print(social_clean['customer_id'].isin(transactions_clean['customer_id_legacy']).value_counts())"
      ],
      "metadata": {
        "colab": {
          "base_uri": "https://localhost:8080/"
        },
        "id": "6mklrxKAtgLD",
        "outputId": "a747a23d-61da-4ea8-fcae-ff63a9bdfe56"
      },
      "execution_count": 309,
      "outputs": [
        {
          "output_type": "stream",
          "name": "stdout",
          "text": [
            "Customer ID Overlap Check:\n",
            "customer_id\n",
            "True     61\n",
            "False    23\n",
            "Name: count, dtype: int64\n"
          ]
        }
      ]
    },
    {
      "cell_type": "markdown",
      "source": [
        "### Merge Datasets\n",
        "#### Combine datasets with a **left join** to retain all social profiles."
      ],
      "metadata": {
        "id": "NiSENlIuvL9o"
      }
    },
    {
      "cell_type": "code",
      "source": [
        "merged_data = pd.merge(social_clean, transactions_clean, left_on='customer_id', right_on='customer_id_legacy', how='left')\n",
        "print(f\"Rows in social_clean: {len(social_clean)}, Rows in merged_data: {len(merged_data)}\")  # Should be 84"
      ],
      "metadata": {
        "colab": {
          "base_uri": "https://localhost:8080/"
        },
        "id": "sDEJ-8QGtmLw",
        "outputId": "35c9b825-aef8-4791-9840-82d747cf1121"
      },
      "execution_count": 310,
      "outputs": [
        {
          "output_type": "stream",
          "name": "stdout",
          "text": [
            "Rows in social_clean: 84, Rows in merged_data: 84\n"
          ]
        }
      ]
    },
    {
      "cell_type": "markdown",
      "source": [
        "### Handle Null Values Post-Merge\n",
        "#### Fill missing values from unmatched rows, addressing the **23 nulls** in `product_category`"
      ],
      "metadata": {
        "id": "l6EOBazmvdyI"
      }
    },
    {
      "cell_type": "code",
      "source": [
        "merged_data['purchase_amount'] = merged_data['purchase_amount'].fillna(0)\n",
        "merged_data['customer_rating'] = merged_data['customer_rating'].fillna(merged_data['customer_rating'].median())\n",
        "merged_data['transaction_count'] = merged_data['transaction_count'].fillna(0)\n",
        "merged_data['purchase_date'] = merged_data['purchase_date'].fillna('N/A')\n",
        "# Impute product_category with 'Unknown' for unmatched rows\n",
        "merged_data['product_category'] = merged_data['product_category'].fillna('Unknown')\n",
        "print(\"Merged Data Missing Values after Initial Imputation:\")\n",
        "print(merged_data.isnull().sum())"
      ],
      "metadata": {
        "colab": {
          "base_uri": "https://localhost:8080/"
        },
        "id": "RjxINp3-trCs",
        "outputId": "85b682da-55c6-4a30-afc1-e0db839ff2ca"
      },
      "execution_count": 311,
      "outputs": [
        {
          "output_type": "stream",
          "name": "stdout",
          "text": [
            "Merged Data Missing Values after Initial Imputation:\n",
            "customer_id_new             0\n",
            "engagement_score            0\n",
            "purchase_interest_score     0\n",
            "review_sentiment            0\n",
            "social_media_platform       0\n",
            "customer_id                 0\n",
            "customer_id_legacy         23\n",
            "transaction_count           0\n",
            "purchase_amount             0\n",
            "purchase_date               0\n",
            "product_category            0\n",
            "customer_rating             0\n",
            "dtype: int64\n"
          ]
        }
      ]
    },
    {
      "cell_type": "markdown",
      "source": [],
      "metadata": {
        "id": "poODWO9z4j-d"
      }
    },
    {
      "cell_type": "markdown",
      "source": [
        "### Feature Engineering\n",
        "#### Create and encode features for the model"
      ],
      "metadata": {
        "id": "NVIghY6Cvr8J"
      }
    },
    {
      "cell_type": "code",
      "source": [
        "merged_data['avg_purchase_per_transaction'] = merged_data['purchase_amount'] / merged_data['transaction_count'].replace(0, 1)\n",
        "merged_data['avg_purchase_per_transaction'] = merged_data['avg_purchase_per_transaction'].fillna(0)"
      ],
      "metadata": {
        "id": "0kRtO6SKtx6x"
      },
      "execution_count": 312,
      "outputs": []
    },
    {
      "cell_type": "code",
      "source": [
        "merged_data = pd.get_dummies(merged_data, columns=['review_sentiment', 'social_media_platform', 'product_category'])"
      ],
      "metadata": {
        "id": "VerpuHjenD7U"
      },
      "execution_count": 313,
      "outputs": []
    },
    {
      "cell_type": "code",
      "source": [
        "merged_data = merged_data.drop(columns=['customer_id_legacy'])"
      ],
      "metadata": {
        "id": "FhBwHIAtnKMm"
      },
      "execution_count": 314,
      "outputs": []
    },
    {
      "cell_type": "markdown",
      "source": [
        "##### Correlation Matrix (post-merge):"
      ],
      "metadata": {
        "id": "43otH4Uz5kjU"
      }
    },
    {
      "cell_type": "code",
      "source": [
        "numeric_cols = ['engagement_score', 'purchase_interest_score', 'transaction_count',\n",
        "                'purchase_amount', 'customer_rating', 'avg_purchase_per_transaction']\n",
        "correlation_matrix = merged_data[numeric_cols].corr()\n",
        "\n",
        "plt.figure(figsize=(10, 8))\n",
        "sns.heatmap(correlation_matrix, annot=True, cmap='coolwarm', vmin=-1, vmax=1, center=0,\n",
        "            square=True, linewidths=0.5, cbar_kws={\"shrink\": .5})\n",
        "plt.title('Correlation Matrix of Numeric Features')\n",
        "plt.xticks(rotation=45, ha='right')\n",
        "plt.yticks(rotation=0)\n",
        "plt.tight_layout()\n",
        "plt.show()\n",
        "\n",
        "print(\"Correlation Matrix Values:\")\n",
        "print(correlation_matrix)"
      ],
      "metadata": {
        "colab": {
          "base_uri": "https://localhost:8080/",
          "height": 1000
        },
        "id": "ghWgA2zq5fgR",
        "outputId": "954d0fd0-9e62-4c35-9ae2-c11f645c1446"
      },
      "execution_count": 315,
      "outputs": [
        {
          "output_type": "display_data",
          "data": {
            "text/plain": [
              "<Figure size 1000x800 with 2 Axes>"
            ],
            "image/png": "[encoded data removed]"
          },
          "metadata": {}
        },
        {
          "output_type": "stream",
          "name": "stdout",
          "text": [
            "Correlation Matrix Values:\n",
            "                              engagement_score  purchase_interest_score  \\\n",
            "engagement_score                      1.000000                 0.126234   \n",
            "purchase_interest_score               0.126234                 1.000000   \n",
            "transaction_count                    -0.083224                -0.071759   \n",
            "purchase_amount                      -0.044885                -0.039919   \n",
            "customer_rating                       0.005381                 0.180697   \n",
            "avg_purchase_per_transaction         -0.088793                -0.066609   \n",
            "\n",
            "                              transaction_count  purchase_amount  \\\n",
            "engagement_score                      -0.083224        -0.044885   \n",
            "purchase_interest_score               -0.071759        -0.039919   \n",
            "transaction_count                      1.000000         0.935674   \n",
            "purchase_amount                        0.935674         1.000000   \n",
            "customer_rating                        0.049957         0.058976   \n",
            "avg_purchase_per_transaction           0.658795         0.762700   \n",
            "\n",
            "                              customer_rating  avg_purchase_per_transaction  \n",
            "engagement_score                     0.005381                     -0.088793  \n",
            "purchase_interest_score              0.180697                     -0.066609  \n",
            "transaction_count                    0.049957                      0.658795  \n",
            "purchase_amount                      0.058976                      0.762700  \n",
            "customer_rating                      1.000000                      0.011548  \n",
            "avg_purchase_per_transaction         0.011548                      1.000000  \n"
          ]
        }
      ]
    },
    {
      "cell_type": "markdown",
      "source": [
        "##### Convert `purchase_date` to numeric days:"
      ],
      "metadata": {
        "id": "5a-hGiNjv7px"
      }
    },
    {
      "cell_type": "code",
      "source": [
        "def date_to_days(date_str):\n",
        "    if date_str == 'N/A':\n",
        "        return 0  # Unmatched rows\n",
        "    date_obj = datetime.strptime(date_str, '%Y-%m-%d')\n",
        "    ref_date = datetime(2024, 1, 1)\n",
        "    return (date_obj - ref_date).days\n",
        "merged_data['purchase_date_days'] = merged_data['purchase_date'].apply(date_to_days)\n",
        "merged_data = merged_data.drop(columns=['purchase_date'])"
      ],
      "metadata": {
        "id": "SLlkNlQbaCQe"
      },
      "execution_count": 316,
      "outputs": []
    },
    {
      "cell_type": "markdown",
      "source": [
        "##### Scale numeric columns:"
      ],
      "metadata": {
        "id": "GWT6EpU4wJaI"
      }
    },
    {
      "cell_type": "code",
      "source": [
        "scaler = MinMaxScaler()\n",
        "numeric_cols = ['engagement_score', 'purchase_interest_score', 'purchase_amount',\n",
        "                'customer_rating', 'avg_purchase_per_transaction', 'purchase_date_days']\n",
        "merged_data[numeric_cols] = scaler.fit_transform(merged_data[numeric_cols])"
      ],
      "metadata": {
        "id": "j68e_VWqnXML"
      },
      "execution_count": 317,
      "outputs": []
    },
    {
      "cell_type": "markdown",
      "source": [
        "##### Save Scaler"
      ],
      "metadata": {
        "id": "vXbPm47MtLxJ"
      }
    },
    {
      "cell_type": "code",
      "source": [
        "joblib.dump(scaler, 'scaler.pkl')"
      ],
      "metadata": {
        "id": "4iuEr0Yys_Lk",
        "colab": {
          "base_uri": "https://localhost:8080/"
        },
        "outputId": "8c214bb8-3847-4a48-92cb-d725dae09415"
      },
      "execution_count": 318,
      "outputs": [
        {
          "output_type": "execute_result",
          "data": {
            "text/plain": [
              "['scaler.pkl']"
            ]
          },
          "metadata": {},
          "execution_count": 318
        }
      ]
    },
    {
      "cell_type": "markdown",
      "source": [
        "### Validation\n",
        "#### Confirm data integrity"
      ],
      "metadata": {
        "id": "g33N94cawiwa"
      }
    },
    {
      "cell_type": "code",
      "source": [
        "print(\"Final Merged Data Missing Values:\")\n",
        "print(merged_data.isnull().sum())\n",
        "print(\"Number of Rows with purchase_amount == 0:\")\n",
        "print(merged_data[merged_data['purchase_amount'] == 0].shape[0])\n",
        "print(\"Merged Data Description:\")\n",
        "print(merged_data.describe())"
      ],
      "metadata": {
        "colab": {
          "base_uri": "https://localhost:8080/"
        },
        "id": "uD2__L3CdaVe",
        "outputId": "4e86f563-7c14-46a8-b1eb-8f37c84c8def"
      },
      "execution_count": 319,
      "outputs": [
        {
          "output_type": "stream",
          "name": "stdout",
          "text": [
            "Final Merged Data Missing Values:\n",
            "customer_id_new                    0\n",
            "engagement_score                   0\n",
            "purchase_interest_score            0\n",
            "customer_id                        0\n",
            "transaction_count                  0\n",
            "purchase_amount                    0\n",
            "customer_rating                    0\n",
            "avg_purchase_per_transaction       0\n",
            "review_sentiment_Negative          0\n",
            "review_sentiment_Neutral           0\n",
            "review_sentiment_Positive          0\n",
            "social_media_platform_Facebook     0\n",
            "social_media_platform_Instagram    0\n",
            "social_media_platform_LinkedIn     0\n",
            "social_media_platform_TikTok       0\n",
            "social_media_platform_Twitter      0\n",
            "product_category_Books             0\n",
            "product_category_Clothing          0\n",
            "product_category_Electronics       0\n",
            "product_category_Groceries         0\n",
            "product_category_Sports            0\n",
            "product_category_Unknown           0\n",
            "purchase_date_days                 0\n",
            "dtype: int64\n",
            "Number of Rows with purchase_amount == 0:\n",
            "23\n",
            "Merged Data Description:\n",
            "       engagement_score  purchase_interest_score  customer_id  \\\n",
            "count         84.000000                84.000000    84.000000   \n",
            "mean           0.507199                 0.550017   149.952381   \n",
            "std            0.252425                 0.249489    29.932818   \n",
            "min            0.000000                 0.000000   100.000000   \n",
            "25%            0.364796                 0.423077   124.750000   \n",
            "50%            0.527211                 0.576923   148.500000   \n",
            "75%            0.678571                 0.733974   177.250000   \n",
            "max            1.000000                 1.000000   199.000000   \n",
            "\n",
            "       transaction_count  purchase_amount  customer_rating  \\\n",
            "count          84.000000        84.000000        84.000000   \n",
            "mean            1.392857         0.215251         0.505525   \n",
            "std             1.192525         0.204562         0.224478   \n",
            "min             0.000000         0.000000         0.000000   \n",
            "25%             0.000000         0.000000         0.442308   \n",
            "50%             1.000000         0.188943         0.487179   \n",
            "75%             2.000000         0.374665         0.591880   \n",
            "max             5.000000         1.000000         1.000000   \n",
            "\n",
            "       avg_purchase_per_transaction  purchase_date_days  \n",
            "count                     84.000000           84.000000  \n",
            "mean                       0.439700            0.439438  \n",
            "std                        0.321988            0.370798  \n",
            "min                        0.000000            0.000000  \n",
            "25%                        0.000000            0.000000  \n",
            "50%                        0.486022            0.476510  \n",
            "75%                        0.700896            0.800336  \n",
            "max                        1.000000            1.000000  \n"
          ]
        }
      ]
    },
    {
      "cell_type": "markdown",
      "source": [
        "### Save Merged Data"
      ],
      "metadata": {
        "id": "MZvW0o9I4yG1"
      }
    },
    {
      "cell_type": "code",
      "source": [
        "merged_data.to_csv('merged_customer_data.csv', index=False)"
      ],
      "metadata": {
        "id": "IpQNHPZ13-LM"
      },
      "execution_count": 320,
      "outputs": []
    },
    {
      "cell_type": "code",
      "source": [
        "merged_data.head()"
      ],
      "metadata": {
        "colab": {
          "base_uri": "https://localhost:8080/",
          "height": 256
        },
        "id": "rqZRCAVKnpFF",
        "outputId": "ccc98e21-ce58-442e-86ac-b737b86a575a"
      },
      "execution_count": 321,
      "outputs": [
        {
          "output_type": "execute_result",
          "data": {
            "text/plain": [
              "  customer_id_new  engagement_score  purchase_interest_score  customer_id  \\\n",
              "0            A100          0.551020                 0.871795          100   \n",
              "1            A101          0.367347                 0.000000          101   \n",
              "2            A102          0.020408                 0.974359          102   \n",
              "3            A103          0.292517                 0.478632          103   \n",
              "4            A104          0.673469                 0.495726          104   \n",
              "\n",
              "   transaction_count  purchase_amount  customer_rating  \\\n",
              "0                2.0         0.300054         0.820513   \n",
              "1                4.0         0.545357         0.365385   \n",
              "2                3.0         0.305421         0.598291   \n",
              "3                3.0         0.427805         0.794872   \n",
              "4                2.0         0.374665         0.089744   \n",
              "\n",
              "   avg_purchase_per_transaction  review_sentiment_Negative  \\\n",
              "0                      0.601075                       True   \n",
              "1                      0.546237                      False   \n",
              "2                      0.407885                      False   \n",
              "3                      0.571326                      False   \n",
              "4                      0.750538                       True   \n",
              "\n",
              "   review_sentiment_Neutral  ...  social_media_platform_LinkedIn  \\\n",
              "0                     False  ...                           False   \n",
              "1                      True  ...                           False   \n",
              "2                      True  ...                            True   \n",
              "3                     False  ...                           False   \n",
              "4                     False  ...                           False   \n",
              "\n",
              "   social_media_platform_TikTok  social_media_platform_Twitter  \\\n",
              "0                         False                          False   \n",
              "1                         False                           True   \n",
              "2                         False                          False   \n",
              "3                         False                          False   \n",
              "4                         False                           True   \n",
              "\n",
              "   product_category_Books  product_category_Clothing  \\\n",
              "0                    True                      False   \n",
              "1                    True                      False   \n",
              "2                   False                      False   \n",
              "3                   False                      False   \n",
              "4                   False                       True   \n",
              "\n",
              "   product_category_Electronics  product_category_Groceries  \\\n",
              "0                         False                       False   \n",
              "1                         False                       False   \n",
              "2                          True                       False   \n",
              "3                         False                       False   \n",
              "4                         False                       False   \n",
              "\n",
              "   product_category_Sports  product_category_Unknown  purchase_date_days  \n",
              "0                    False                     False            0.979866  \n",
              "1                    False                     False            0.483221  \n",
              "2                    False                     False            0.973154  \n",
              "3                     True                     False            0.503356  \n",
              "4                    False                     False            0.986577  \n",
              "\n",
              "[5 rows x 23 columns]"
            ],
            "text/html": [
              "\n",
              "  <div id=\"df-0d538c09-355f-4be4-96af-1409573fd623\" class=\"colab-df-container\">\n",
              "    <div>\n",
              "<style scoped>\n",
              "    .dataframe tbody tr th:only-of-type {\n",
              "        vertical-align: middle;\n",
              "    }\n",
              "\n",
              "    .dataframe tbody tr th {\n",
              "        vertical-align: top;\n",
              "    }\n",
              "\n",
              "    .dataframe thead th {\n",
              "        text-align: right;\n",
              "    }\n",
              "</style>\n",
              "<table border=\"1\" class=\"dataframe\">\n",
              "  <thead>\n",
              "    <tr style=\"text-align: right;\">\n",
              "      <th></th>\n",
              "      <th>customer_id_new</th>\n",
              "      <th>engagement_score</th>\n",
              "      <th>purchase_interest_score</th>\n",
              "      <th>customer_id</th>\n",
              "      <th>transaction_count</th>\n",
              "      <th>purchase_amount</th>\n",
              "      <th>customer_rating</th>\n",
              "      <th>avg_purchase_per_transaction</th>\n",
              "      <th>review_sentiment_Negative</th>\n",
              "      <th>review_sentiment_Neutral</th>\n",
              "      <th>...</th>\n",
              "      <th>social_media_platform_LinkedIn</th>\n",
              "      <th>social_media_platform_TikTok</th>\n",
              "      <th>social_media_platform_Twitter</th>\n",
              "      <th>product_category_Books</th>\n",
              "      <th>product_category_Clothing</th>\n",
              "      <th>product_category_Electronics</th>\n",
              "      <th>product_category_Groceries</th>\n",
              "      <th>product_category_Sports</th>\n",
              "      <th>product_category_Unknown</th>\n",
              "      <th>purchase_date_days</th>\n",
              "    </tr>\n",
              "  </thead>\n",
              "  <tbody>\n",
              "    <tr>\n",
              "      <th>0</th>\n",
              "      <td>A100</td>\n",
              "      <td>0.551020</td>\n",
              "      <td>0.871795</td>\n",
              "      <td>100</td>\n",
              "      <td>2.0</td>\n",
              "      <td>0.300054</td>\n",
              "      <td>0.820513</td>\n",
              "      <td>0.601075</td>\n",
              "      <td>True</td>\n",
              "      <td>False</td>\n",
              "      <td>...</td>\n",
              "      <td>False</td>\n",
              "      <td>False</td>\n",
              "      <td>False</td>\n",
              "      <td>True</td>\n",
              "      <td>False</td>\n",
              "      <td>False</td>\n",
              "      <td>False</td>\n",
              "      <td>False</td>\n",
              "      <td>False</td>\n",
              "      <td>0.979866</td>\n",
              "    </tr>\n",
              "    <tr>\n",
              "      <th>1</th>\n",
              "      <td>A101</td>\n",
              "      <td>0.367347</td>\n",
              "      <td>0.000000</td>\n",
              "      <td>101</td>\n",
              "      <td>4.0</td>\n",
              "      <td>0.545357</td>\n",
              "      <td>0.365385</td>\n",
              "      <td>0.546237</td>\n",
              "      <td>False</td>\n",
              "      <td>True</td>\n",
              "      <td>...</td>\n",
              "      <td>False</td>\n",
              "      <td>False</td>\n",
              "      <td>True</td>\n",
              "      <td>True</td>\n",
              "      <td>False</td>\n",
              "      <td>False</td>\n",
              "      <td>False</td>\n",
              "      <td>False</td>\n",
              "      <td>False</td>\n",
              "      <td>0.483221</td>\n",
              "    </tr>\n",
              "    <tr>\n",
              "      <th>2</th>\n",
              "      <td>A102</td>\n",
              "      <td>0.020408</td>\n",
              "      <td>0.974359</td>\n",
              "      <td>102</td>\n",
              "      <td>3.0</td>\n",
              "      <td>0.305421</td>\n",
              "      <td>0.598291</td>\n",
              "      <td>0.407885</td>\n",
              "      <td>False</td>\n",
              "      <td>True</td>\n",
              "      <td>...</td>\n",
              "      <td>True</td>\n",
              "      <td>False</td>\n",
              "      <td>False</td>\n",
              "      <td>False</td>\n",
              "      <td>False</td>\n",
              "      <td>True</td>\n",
              "      <td>False</td>\n",
              "      <td>False</td>\n",
              "      <td>False</td>\n",
              "      <td>0.973154</td>\n",
              "    </tr>\n",
              "    <tr>\n",
              "      <th>3</th>\n",
              "      <td>A103</td>\n",
              "      <td>0.292517</td>\n",
              "      <td>0.478632</td>\n",
              "      <td>103</td>\n",
              "      <td>3.0</td>\n",
              "      <td>0.427805</td>\n",
              "      <td>0.794872</td>\n",
              "      <td>0.571326</td>\n",
              "      <td>False</td>\n",
              "      <td>False</td>\n",
              "      <td>...</td>\n",
              "      <td>False</td>\n",
              "      <td>False</td>\n",
              "      <td>False</td>\n",
              "      <td>False</td>\n",
              "      <td>False</td>\n",
              "      <td>False</td>\n",
              "      <td>False</td>\n",
              "      <td>True</td>\n",
              "      <td>False</td>\n",
              "      <td>0.503356</td>\n",
              "    </tr>\n",
              "    <tr>\n",
              "      <th>4</th>\n",
              "      <td>A104</td>\n",
              "      <td>0.673469</td>\n",
              "      <td>0.495726</td>\n",
              "      <td>104</td>\n",
              "      <td>2.0</td>\n",
              "      <td>0.374665</td>\n",
              "      <td>0.089744</td>\n",
              "      <td>0.750538</td>\n",
              "      <td>True</td>\n",
              "      <td>False</td>\n",
              "      <td>...</td>\n",
              "      <td>False</td>\n",
              "      <td>False</td>\n",
              "      <td>True</td>\n",
              "      <td>False</td>\n",
              "      <td>True</td>\n",
              "      <td>False</td>\n",
              "      <td>False</td>\n",
              "      <td>False</td>\n",
              "      <td>False</td>\n",
              "      <td>0.986577</td>\n",
              "    </tr>\n",
              "  </tbody>\n",
              "</table>\n",
              "<p>5 rows × 23 columns</p>\n",
              "</div>\n",
              "    <div class=\"colab-df-buttons\">\n",
              "\n",
              "  <div class=\"colab-df-container\">\n",
              "    <button class=\"colab-df-convert\" onclick=\"convertToInteractive('df-0d538c09-355f-4be4-96af-1409573fd623')\"\n",
              "            title=\"Convert this dataframe to an interactive table.\"\n",
              "            style=\"display:none;\">\n",
              "\n",
              "  <svg xmlns=\"http://www.w3.org/2000/svg\" height=\"24px\" viewBox=\"0 -960 960 960\">\n",
              "    <path d=\"M120-120v-720h720v720H120Zm60-500h600v-160H180v160Zm220 220h160v-160H400v160Zm0 220h160v-160H400v160ZM180-400h160v-160H180v160Zm440 0h160v-160H620v160ZM180-180h160v-160H180v160Zm440 0h160v-160H620v160Z\"/>\n",
              "  </svg>\n",
              "    </button>\n",
              "\n",
              "  <style>\n",
              "    .colab-df-container {\n",
              "      display:flex;\n",
              "      gap: 12px;\n",
              "    }\n",
              "\n",
              "    .colab-df-convert {\n",
              "      background-color: #E8F0FE;\n",
              "      border: none;\n",
              "      border-radius: 50%;\n",
              "      cursor: pointer;\n",
              "      display: none;\n",
              "      fill: #1967D2;\n",
              "      height: 32px;\n",
              "      padding: 0 0 0 0;\n",
              "      width: 32px;\n",
              "    }\n",
              "\n",
              "    .colab-df-convert:hover {\n",
              "      background-color: #E2EBFA;\n",
              "      box-shadow: 0px 1px 2px rgba(60, 64, 67, 0.3), 0px 1px 3px 1px rgba(60, 64, 67, 0.15);\n",
              "      fill: #174EA6;\n",
              "    }\n",
              "\n",
              "    .colab-df-buttons div {\n",
              "      margin-bottom: 4px;\n",
              "    }\n",
              "\n",
              "    [theme=dark] .colab-df-convert {\n",
              "      background-color: #3B4455;\n",
              "      fill: #D2E3FC;\n",
              "    }\n",
              "\n",
              "    [theme=dark] .colab-df-convert:hover {\n",
              "      background-color: #434B5C;\n",
              "      box-shadow: 0px 1px 3px 1px rgba(0, 0, 0, 0.15);\n",
              "      filter: drop-shadow(0px 1px 2px rgba(0, 0, 0, 0.3));\n",
              "      fill: #FFFFFF;\n",
              "    }\n",
              "  </style>\n",
              "\n",
              "    <script>\n",
              "      const buttonEl =\n",
              "        document.querySelector('#df-0d538c09-355f-4be4-96af-1409573fd623 button.colab-df-convert');\n",
              "      buttonEl.style.display =\n",
              "        google.colab.kernel.accessAllowed ? 'block' : 'none';\n",
              "\n",
              "      async function convertToInteractive(key) {\n",
              "        const element = document.querySelector('#df-0d538c09-355f-4be4-96af-1409573fd623');\n",
              "        const dataTable =\n",
              "          await google.colab.kernel.invokeFunction('convertToInteractive',\n",
              "                                                    [key], {});\n",
              "        if (!dataTable) return;\n",
              "\n",
              "        const docLinkHtml = 'Like what you see? Visit the ' +\n",
              "          '<a target=\"_blank\" href=https://colab.research.google.com/notebooks/data_table.ipynb>data table notebook</a>'\n",
              "          + ' to learn more about interactive tables.';\n",
              "        element.innerHTML = '';\n",
              "        dataTable['output_type'] = 'display_data';\n",
              "        await google.colab.output.renderOutput(dataTable, element);\n",
              "        const docLink = document.createElement('div');\n",
              "        docLink.innerHTML = docLinkHtml;\n",
              "        element.appendChild(docLink);\n",
              "      }\n",
              "    </script>\n",
              "  </div>\n",
              "\n",
              "\n",
              "    <div id=\"df-dc66e446-9e48-46bd-9000-9ec3248a07a9\">\n",
              "      <button class=\"colab-df-quickchart\" onclick=\"quickchart('df-dc66e446-9e48-46bd-9000-9ec3248a07a9')\"\n",
              "                title=\"Suggest charts\"\n",
              "                style=\"display:none;\">\n",
              "\n",
              "<svg xmlns=\"http://www.w3.org/2000/svg\" height=\"24px\"viewBox=\"0 0 24 24\"\n",
              "     width=\"24px\">\n",
              "    <g>\n",
              "        <path d=\"M19 3H5c-1.1 0-2 .9-2 2v14c0 1.1.9 2 2 2h14c1.1 0 2-.9 2-2V5c0-1.1-.9-2-2-2zM9 17H7v-7h2v7zm4 0h-2V7h2v10zm4 0h-2v-4h2v4z\"/>\n",
              "    </g>\n",
              "</svg>\n",
              "      </button>\n",
              "\n",
              "<style>\n",
              "  .colab-df-quickchart {\n",
              "      --bg-color: #E8F0FE;\n",
              "      --fill-color: #1967D2;\n",
              "      --hover-bg-color: #E2EBFA;\n",
              "      --hover-fill-color: #174EA6;\n",
              "      --disabled-fill-color: #AAA;\n",
              "      --disabled-bg-color: #DDD;\n",
              "  }\n",
              "\n",
              "  [theme=dark] .colab-df-quickchart {\n",
              "      --bg-color: #3B4455;\n",
              "      --fill-color: #D2E3FC;\n",
              "      --hover-bg-color: #434B5C;\n",
              "      --hover-fill-color: #FFFFFF;\n",
              "      --disabled-bg-color: #3B4455;\n",
              "      --disabled-fill-color: #666;\n",
              "  }\n",
              "\n",
              "  .colab-df-quickchart {\n",
              "    background-color: var(--bg-color);\n",
              "    border: none;\n",
              "    border-radius: 50%;\n",
              "    cursor: pointer;\n",
              "    display: none;\n",
              "    fill: var(--fill-color);\n",
              "    height: 32px;\n",
              "    padding: 0;\n",
              "    width: 32px;\n",
              "  }\n",
              "\n",
              "  .colab-df-quickchart:hover {\n",
              "    background-color: var(--hover-bg-color);\n",
              "    box-shadow: 0 1px 2px rgba(60, 64, 67, 0.3), 0 1px 3px 1px rgba(60, 64, 67, 0.15);\n",
              "    fill: var(--button-hover-fill-color);\n",
              "  }\n",
              "\n",
              "  .colab-df-quickchart-complete:disabled,\n",
              "  .colab-df-quickchart-complete:disabled:hover {\n",
              "    background-color: var(--disabled-bg-color);\n",
              "    fill: var(--disabled-fill-color);\n",
              "    box-shadow: none;\n",
              "  }\n",
              "\n",
              "  .colab-df-spinner {\n",
              "    border: 2px solid var(--fill-color);\n",
              "    border-color: transparent;\n",
              "    border-bottom-color: var(--fill-color);\n",
              "    animation:\n",
              "      spin 1s steps(1) infinite;\n",
              "  }\n",
              "\n",
              "  @keyframes spin {\n",
              "    0% {\n",
              "      border-color: transparent;\n",
              "      border-bottom-color: var(--fill-color);\n",
              "      border-left-color: var(--fill-color);\n",
              "    }\n",
              "    20% {\n",
              "      border-color: transparent;\n",
              "      border-left-color: var(--fill-color);\n",
              "      border-top-color: var(--fill-color);\n",
              "    }\n",
              "    30% {\n",
              "      border-color: transparent;\n",
              "      border-left-color: var(--fill-color);\n",
              "      border-top-color: var(--fill-color);\n",
              "      border-right-color: var(--fill-color);\n",
              "    }\n",
              "    40% {\n",
              "      border-color: transparent;\n",
              "      border-right-color: var(--fill-color);\n",
              "      border-top-color: var(--fill-color);\n",
              "    }\n",
              "    60% {\n",
              "      border-color: transparent;\n",
              "      border-right-color: var(--fill-color);\n",
              "    }\n",
              "    80% {\n",
              "      border-color: transparent;\n",
              "      border-right-color: var(--fill-color);\n",
              "      border-bottom-color: var(--fill-color);\n",
              "    }\n",
              "    90% {\n",
              "      border-color: transparent;\n",
              "      border-bottom-color: var(--fill-color);\n",
              "    }\n",
              "  }\n",
              "</style>\n",
              "\n",
              "      <script>\n",
              "        async function quickchart(key) {\n",
              "          const quickchartButtonEl =\n",
              "            document.querySelector('#' + key + ' button');\n",
              "          quickchartButtonEl.disabled = true;  // To prevent multiple clicks.\n",
              "          quickchartButtonEl.classList.add('colab-df-spinner');\n",
              "          try {\n",
              "            const charts = await google.colab.kernel.invokeFunction(\n",
              "                'suggestCharts', [key], {});\n",
              "          } catch (error) {\n",
              "            console.error('Error during call to suggestCharts:', error);\n",
              "          }\n",
              "          quickchartButtonEl.classList.remove('colab-df-spinner');\n",
              "          quickchartButtonEl.classList.add('colab-df-quickchart-complete');\n",
              "        }\n",
              "        (() => {\n",
              "          let quickchartButtonEl =\n",
              "            document.querySelector('#df-dc66e446-9e48-46bd-9000-9ec3248a07a9 button');\n",
              "          quickchartButtonEl.style.display =\n",
              "            google.colab.kernel.accessAllowed ? 'block' : 'none';\n",
              "        })();\n",
              "      </script>\n",
              "    </div>\n",
              "\n",
              "    </div>\n",
              "  </div>\n"
            ],
            "application/vnd.google.colaboratory.intrinsic+json": {
              "type": "dataframe",
              "variable_name": "merged_data"
            }
          },
          "metadata": {},
          "execution_count": 321
        }
      ]
    },
    {
      "cell_type": "markdown",
      "source": [
        "## Training the Product Recommendation Model"
      ],
      "metadata": {
        "id": "stbK8TBbSKxD"
      }
    },
    {
      "cell_type": "markdown",
      "source": [
        "### Split the data\n",
        "\n",
        "#### Split the `merged_data` into training and testing sets *before* separating based on `product_category_Unknown`.\n"
      ],
      "metadata": {
        "id": "PQXF1PTRR86U"
      }
    },
    {
      "cell_type": "markdown",
      "source": [
        "#### Drop the specified columns to create the feature set `X` and create the target variable `y`.\n",
        "\n"
      ],
      "metadata": {
        "id": "clVt-mc4ScPy"
      }
    },
    {
      "cell_type": "code",
      "source": [
        "X = merged_data.drop(columns=['customer_id_new', 'customer_id'] +\n",
        "                     [col for col in merged_data.columns if col.startswith('product_category')])\n",
        "y = merged_data[[col for col in merged_data.columns if col.startswith('product_category') and col != 'product_category_Unknown']].idxmax(axis=1)\n",
        "\n",
        "print(X)\n",
        "print(y)"
      ],
      "metadata": {
        "colab": {
          "base_uri": "https://localhost:8080/"
        },
        "id": "OfhrVTwhOXWh",
        "outputId": "ce29260e-7a70-429d-f52f-4e8863a92aae"
      },
      "execution_count": 322,
      "outputs": [
        {
          "output_type": "stream",
          "name": "stdout",
          "text": [
            "    engagement_score  purchase_interest_score  transaction_count  \\\n",
            "0           0.551020                 0.871795                2.0   \n",
            "1           0.367347                 0.000000                4.0   \n",
            "2           0.020408                 0.974359                3.0   \n",
            "3           0.292517                 0.478632                3.0   \n",
            "4           0.673469                 0.495726                2.0   \n",
            "..               ...                      ...                ...   \n",
            "79          0.693878                 0.692308                0.0   \n",
            "80          0.714286                 0.743590                0.0   \n",
            "81          0.500000                 0.410256                0.0   \n",
            "82          0.591837                 0.525641                2.0   \n",
            "83          0.142857                 0.205128                2.0   \n",
            "\n",
            "    purchase_amount  customer_rating  avg_purchase_per_transaction  \\\n",
            "0          0.300054         0.820513                      0.601075   \n",
            "1          0.545357         0.365385                      0.546237   \n",
            "2          0.305421         0.598291                      0.407885   \n",
            "3          0.427805         0.794872                      0.571326   \n",
            "4          0.374665         0.089744                      0.750538   \n",
            "..              ...              ...                           ...   \n",
            "79         0.000000         0.487179                      0.000000   \n",
            "80         0.000000         0.487179                      0.000000   \n",
            "81         0.000000         0.487179                      0.000000   \n",
            "82         0.462158         0.423077                      0.925806   \n",
            "83         0.237252         0.243590                      0.475269   \n",
            "\n",
            "    review_sentiment_Negative  review_sentiment_Neutral  \\\n",
            "0                        True                     False   \n",
            "1                       False                      True   \n",
            "2                       False                      True   \n",
            "3                       False                     False   \n",
            "4                        True                     False   \n",
            "..                        ...                       ...   \n",
            "79                      False                      True   \n",
            "80                       True                     False   \n",
            "81                      False                      True   \n",
            "82                       True                     False   \n",
            "83                      False                     False   \n",
            "\n",
            "    review_sentiment_Positive  social_media_platform_Facebook  \\\n",
            "0                       False                           False   \n",
            "1                       False                           False   \n",
            "2                       False                           False   \n",
            "3                        True                           False   \n",
            "4                       False                           False   \n",
            "..                        ...                             ...   \n",
            "79                      False                           False   \n",
            "80                      False                           False   \n",
            "81                      False                           False   \n",
            "82                      False                            True   \n",
            "83                       True                           False   \n",
            "\n",
            "    social_media_platform_Instagram  social_media_platform_LinkedIn  \\\n",
            "0                              True                           False   \n",
            "1                             False                           False   \n",
            "2                             False                            True   \n",
            "3                              True                           False   \n",
            "4                             False                           False   \n",
            "..                              ...                             ...   \n",
            "79                            False                            True   \n",
            "80                             True                           False   \n",
            "81                            False                            True   \n",
            "82                            False                           False   \n",
            "83                            False                            True   \n",
            "\n",
            "    social_media_platform_TikTok  social_media_platform_Twitter  \\\n",
            "0                          False                          False   \n",
            "1                          False                           True   \n",
            "2                          False                          False   \n",
            "3                          False                          False   \n",
            "4                          False                           True   \n",
            "..                           ...                            ...   \n",
            "79                         False                          False   \n",
            "80                         False                          False   \n",
            "81                         False                          False   \n",
            "82                         False                          False   \n",
            "83                         False                          False   \n",
            "\n",
            "    purchase_date_days  \n",
            "0             0.979866  \n",
            "1             0.483221  \n",
            "2             0.973154  \n",
            "3             0.503356  \n",
            "4             0.986577  \n",
            "..                 ...  \n",
            "79            0.000000  \n",
            "80            0.000000  \n",
            "81            0.000000  \n",
            "82            0.953020  \n",
            "83            0.570470  \n",
            "\n",
            "[84 rows x 15 columns]\n",
            "0           product_category_Books\n",
            "1           product_category_Books\n",
            "2     product_category_Electronics\n",
            "3          product_category_Sports\n",
            "4        product_category_Clothing\n",
            "                  ...             \n",
            "79          product_category_Books\n",
            "80          product_category_Books\n",
            "81          product_category_Books\n",
            "82          product_category_Books\n",
            "83          product_category_Books\n",
            "Length: 84, dtype: object\n"
          ]
        }
      ]
    },
    {
      "cell_type": "markdown",
      "source": [
        "#### Split the features and target into training and testing sets using `train_test_split`\n",
        "\n"
      ],
      "metadata": {
        "id": "AgE4sdNGSlen"
      }
    },
    {
      "cell_type": "code",
      "source": [
        "X_train, X_test, y_train, y_test = train_test_split(X, y, test_size=0.2, random_state=42)\n",
        "print(f\"New X_train shape: {X_train.shape}, New X_test shape: {X_test.shape}\")\n",
        "print(f\"New y_train shape: {y_train.shape}, New y_test shape: {y_test.shape}\")"
      ],
      "metadata": {
        "colab": {
          "base_uri": "https://localhost:8080/"
        },
        "id": "NOBly8fdOnN4",
        "outputId": "54c9a5db-f21a-4669-d58d-f94bc038983f"
      },
      "execution_count": 323,
      "outputs": [
        {
          "output_type": "stream",
          "name": "stdout",
          "text": [
            "New X_train shape: (67, 15), New X_test shape: (17, 15)\n",
            "New y_train shape: (67,), New y_test shape: (17,)\n"
          ]
        }
      ]
    },
    {
      "cell_type": "markdown",
      "source": [
        "### Hyperparameter Tuning\n",
        "\n",
        "#### Define the parameter grid for hyperparameter tuning and perform `GridSearchCV`"
      ],
      "metadata": {
        "id": "mH25NK4BS8Hc"
      }
    },
    {
      "cell_type": "code",
      "source": [
        "param_grid = {\n",
        "    'n_estimators': [100, 200, 300],\n",
        "    'max_depth': [None, 10, 20, 30],\n",
        "    'min_samples_split': [2, 5, 10],\n",
        "    'min_samples_leaf': [1, 2, 4]\n",
        "}\n",
        "\n",
        "grid_search = GridSearchCV(estimator=RandomForestClassifier(random_state=42),\n",
        "                           param_grid=param_grid,\n",
        "                           cv=5,\n",
        "                           scoring='accuracy',\n",
        "                           n_jobs=-1)\n",
        "\n",
        "# Perform GridSearchCV on the training data\n",
        "grid_search.fit(X_train, y_train)\n",
        "\n",
        "# Print the best hyperparameters and the best score\n",
        "print(\"Best hyperparameters found:\")\n",
        "print(grid_search.best_params_)\n",
        "print(f\"Best cross-validation accuracy: {grid_search.best_score_:.2f}\")"
      ],
      "metadata": {
        "colab": {
          "base_uri": "https://localhost:8080/"
        },
        "id": "P4GaUr-UQCqW",
        "outputId": "09bd31b8-b6a7-459a-8640-9f22e3727eda"
      },
      "execution_count": 324,
      "outputs": [
        {
          "output_type": "stream",
          "name": "stdout",
          "text": [
            "Best hyperparameters found:\n",
            "{'max_depth': None, 'min_samples_leaf': 2, 'min_samples_split': 2, 'n_estimators': 300}\n",
            "Best cross-validation accuracy: 0.55\n"
          ]
        }
      ]
    },
    {
      "cell_type": "markdown",
      "source": [
        "#### Train a new `RandomForestClassifier` model using the best hyperparameters found by `GridSearchCV` and evaluate its performance on the testing set"
      ],
      "metadata": {
        "id": "7VXMIjyzTYT9"
      }
    },
    {
      "cell_type": "code",
      "source": [
        "# Train the model with the best hyperparameters\n",
        "best_model = grid_search.best_estimator_\n",
        "best_model.fit(X_train, y_train)"
      ],
      "metadata": {
        "colab": {
          "base_uri": "https://localhost:8080/",
          "height": 80
        },
        "id": "T0uzEjQDQmNz",
        "outputId": "6f13c9df-fed1-4190-f65c-b00eeedf549b"
      },
      "execution_count": 325,
      "outputs": [
        {
          "output_type": "execute_result",
          "data": {
            "text/plain": [
              "RandomForestClassifier(min_samples_leaf=2, n_estimators=300, random_state=42)"
            ],
            "text/html": [
              "<style>#sk-container-id-5 {\n",
              "  /* Definition of color scheme common for light and dark mode */\n",
              "  --sklearn-color-text: #000;\n",
              "  --sklearn-color-text-muted: #666;\n",
              "  --sklearn-color-line: gray;\n",
              "  /* Definition of color scheme for unfitted estimators */\n",
              "  --sklearn-color-unfitted-level-0: #fff5e6;\n",
              "  --sklearn-color-unfitted-level-1: #f6e4d2;\n",
              "  --sklearn-color-unfitted-level-2: #ffe0b3;\n",
              "  --sklearn-color-unfitted-level-3: chocolate;\n",
              "  /* Definition of color scheme for fitted estimators */\n",
              "  --sklearn-color-fitted-level-0: #f0f8ff;\n",
              "  --sklearn-color-fitted-level-1: #d4ebff;\n",
              "  --sklearn-color-fitted-level-2: #b3dbfd;\n",
              "  --sklearn-color-fitted-level-3: cornflowerblue;\n",
              "\n",
              "  /* Specific color for light theme */\n",
              "  --sklearn-color-text-on-default-background: var(--sg-text-color, var(--theme-code-foreground, var(--jp-content-font-color1, black)));\n",
              "  --sklearn-color-background: var(--sg-background-color, var(--theme-background, var(--jp-layout-color0, white)));\n",
              "  --sklearn-color-border-box: var(--sg-text-color, var(--theme-code-foreground, var(--jp-content-font-color1, black)));\n",
              "  --sklearn-color-icon: #696969;\n",
              "\n",
              "  @media (prefers-color-scheme: dark) {\n",
              "    /* Redefinition of color scheme for dark theme */\n",
              "    --sklearn-color-text-on-default-background: var(--sg-text-color, var(--theme-code-foreground, var(--jp-content-font-color1, white)));\n",
              "    --sklearn-color-background: var(--sg-background-color, var(--theme-background, var(--jp-layout-color0, #111)));\n",
              "    --sklearn-color-border-box: var(--sg-text-color, var(--theme-code-foreground, var(--jp-content-font-color1, white)));\n",
              "    --sklearn-color-icon: #878787;\n",
              "  }\n",
              "}\n",
              "\n",
              "#sk-container-id-5 {\n",
              "  color: var(--sklearn-color-text);\n",
              "}\n",
              "\n",
              "#sk-container-id-5 pre {\n",
              "  padding: 0;\n",
              "}\n",
              "\n",
              "#sk-container-id-5 input.sk-hidden--visually {\n",
              "  border: 0;\n",
              "  clip: rect(1px 1px 1px 1px);\n",
              "  clip: rect(1px, 1px, 1px, 1px);\n",
              "  height: 1px;\n",
              "  margin: -1px;\n",
              "  overflow: hidden;\n",
              "  padding: 0;\n",
              "  position: absolute;\n",
              "  width: 1px;\n",
              "}\n",
              "\n",
              "#sk-container-id-5 div.sk-dashed-wrapped {\n",
              "  border: 1px dashed var(--sklearn-color-line);\n",
              "  margin: 0 0.4em 0.5em 0.4em;\n",
              "  box-sizing: border-box;\n",
              "  padding-bottom: 0.4em;\n",
              "  background-color: var(--sklearn-color-background);\n",
              "}\n",
              "\n",
              "#sk-container-id-5 div.sk-container {\n",
              "  /* jupyter's `normalize.less` sets `[hidden] { display: none; }`\n",
              "     but bootstrap.min.css set `[hidden] { display: none !important; }`\n",
              "     so we also need the `!important` here to be able to override the\n",
              "     default hidden behavior on the sphinx rendered scikit-learn.org.\n",
              "     See: https://github.com/scikit-learn/scikit-learn/issues/21755 */\n",
              "  display: inline-block !important;\n",
              "  position: relative;\n",
              "}\n",
              "\n",
              "#sk-container-id-5 div.sk-text-repr-fallback {\n",
              "  display: none;\n",
              "}\n",
              "\n",
              "div.sk-parallel-item,\n",
              "div.sk-serial,\n",
              "div.sk-item {\n",
              "  /* draw centered vertical line to link estimators */\n",
              "  background-image: linear-gradient(var(--sklearn-color-text-on-default-background), var(--sklearn-color-text-on-default-background));\n",
              "  background-size: 2px 100%;\n",
              "  background-repeat: no-repeat;\n",
              "  background-position: center center;\n",
              "}\n",
              "\n",
              "/* Parallel-specific style estimator block */\n",
              "\n",
              "#sk-container-id-5 div.sk-parallel-item::after {\n",
              "  content: \"\";\n",
              "  width: 100%;\n",
              "  border-bottom: 2px solid var(--sklearn-color-text-on-default-background);\n",
              "  flex-grow: 1;\n",
              "}\n",
              "\n",
              "#sk-container-id-5 div.sk-parallel {\n",
              "  display: flex;\n",
              "  align-items: stretch;\n",
              "  justify-content: center;\n",
              "  background-color: var(--sklearn-color-background);\n",
              "  position: relative;\n",
              "}\n",
              "\n",
              "#sk-container-id-5 div.sk-parallel-item {\n",
              "  display: flex;\n",
              "  flex-direction: column;\n",
              "}\n",
              "\n",
              "#sk-container-id-5 div.sk-parallel-item:first-child::after {\n",
              "  align-self: flex-end;\n",
              "  width: 50%;\n",
              "}\n",
              "\n",
              "#sk-container-id-5 div.sk-parallel-item:last-child::after {\n",
              "  align-self: flex-start;\n",
              "  width: 50%;\n",
              "}\n",
              "\n",
              "#sk-container-id-5 div.sk-parallel-item:only-child::after {\n",
              "  width: 0;\n",
              "}\n",
              "\n",
              "/* Serial-specific style estimator block */\n",
              "\n",
              "#sk-container-id-5 div.sk-serial {\n",
              "  display: flex;\n",
              "  flex-direction: column;\n",
              "  align-items: center;\n",
              "  background-color: var(--sklearn-color-background);\n",
              "  padding-right: 1em;\n",
              "  padding-left: 1em;\n",
              "}\n",
              "\n",
              "\n",
              "/* Toggleable style: style used for estimator/Pipeline/ColumnTransformer box that is\n",
              "clickable and can be expanded/collapsed.\n",
              "- Pipeline and ColumnTransformer use this feature and define the default style\n",
              "- Estimators will overwrite some part of the style using the `sk-estimator` class\n",
              "*/\n",
              "\n",
              "/* Pipeline and ColumnTransformer style (default) */\n",
              "\n",
              "#sk-container-id-5 div.sk-toggleable {\n",
              "  /* Default theme specific background. It is overwritten whether we have a\n",
              "  specific estimator or a Pipeline/ColumnTransformer */\n",
              "  background-color: var(--sklearn-color-background);\n",
              "}\n",
              "\n",
              "/* Toggleable label */\n",
              "#sk-container-id-5 label.sk-toggleable__label {\n",
              "  cursor: pointer;\n",
              "  display: flex;\n",
              "  width: 100%;\n",
              "  margin-bottom: 0;\n",
              "  padding: 0.5em;\n",
              "  box-sizing: border-box;\n",
              "  text-align: center;\n",
              "  align-items: start;\n",
              "  justify-content: space-between;\n",
              "  gap: 0.5em;\n",
              "}\n",
              "\n",
              "#sk-container-id-5 label.sk-toggleable__label .caption {\n",
              "  font-size: 0.6rem;\n",
              "  font-weight: lighter;\n",
              "  color: var(--sklearn-color-text-muted);\n",
              "}\n",
              "\n",
              "#sk-container-id-5 label.sk-toggleable__label-arrow:before {\n",
              "  /* Arrow on the left of the label */\n",
              "  content: \"▸\";\n",
              "  float: left;\n",
              "  margin-right: 0.25em;\n",
              "  color: var(--sklearn-color-icon);\n",
              "}\n",
              "\n",
              "#sk-container-id-5 label.sk-toggleable__label-arrow:hover:before {\n",
              "  color: var(--sklearn-color-text);\n",
              "}\n",
              "\n",
              "/* Toggleable content - dropdown */\n",
              "\n",
              "#sk-container-id-5 div.sk-toggleable__content {\n",
              "  max-height: 0;\n",
              "  max-width: 0;\n",
              "  overflow: hidden;\n",
              "  text-align: left;\n",
              "  /* unfitted */\n",
              "  background-color: var(--sklearn-color-unfitted-level-0);\n",
              "}\n",
              "\n",
              "#sk-container-id-5 div.sk-toggleable__content.fitted {\n",
              "  /* fitted */\n",
              "  background-color: var(--sklearn-color-fitted-level-0);\n",
              "}\n",
              "\n",
              "#sk-container-id-5 div.sk-toggleable__content pre {\n",
              "  margin: 0.2em;\n",
              "  border-radius: 0.25em;\n",
              "  color: var(--sklearn-color-text);\n",
              "  /* unfitted */\n",
              "  background-color: var(--sklearn-color-unfitted-level-0);\n",
              "}\n",
              "\n",
              "#sk-container-id-5 div.sk-toggleable__content.fitted pre {\n",
              "  /* unfitted */\n",
              "  background-color: var(--sklearn-color-fitted-level-0);\n",
              "}\n",
              "\n",
              "#sk-container-id-5 input.sk-toggleable__control:checked~div.sk-toggleable__content {\n",
              "  /* Expand drop-down */\n",
              "  max-height: 200px;\n",
              "  max-width: 100%;\n",
              "  overflow: auto;\n",
              "}\n",
              "\n",
              "#sk-container-id-5 input.sk-toggleable__control:checked~label.sk-toggleable__label-arrow:before {\n",
              "  content: \"▾\";\n",
              "}\n",
              "\n",
              "/* Pipeline/ColumnTransformer-specific style */\n",
              "\n",
              "#sk-container-id-5 div.sk-label input.sk-toggleable__control:checked~label.sk-toggleable__label {\n",
              "  color: var(--sklearn-color-text);\n",
              "  background-color: var(--sklearn-color-unfitted-level-2);\n",
              "}\n",
              "\n",
              "#sk-container-id-5 div.sk-label.fitted input.sk-toggleable__control:checked~label.sk-toggleable__label {\n",
              "  background-color: var(--sklearn-color-fitted-level-2);\n",
              "}\n",
              "\n",
              "/* Estimator-specific style */\n",
              "\n",
              "/* Colorize estimator box */\n",
              "#sk-container-id-5 div.sk-estimator input.sk-toggleable__control:checked~label.sk-toggleable__label {\n",
              "  /* unfitted */\n",
              "  background-color: var(--sklearn-color-unfitted-level-2);\n",
              "}\n",
              "\n",
              "#sk-container-id-5 div.sk-estimator.fitted input.sk-toggleable__control:checked~label.sk-toggleable__label {\n",
              "  /* fitted */\n",
              "  background-color: var(--sklearn-color-fitted-level-2);\n",
              "}\n",
              "\n",
              "#sk-container-id-5 div.sk-label label.sk-toggleable__label,\n",
              "#sk-container-id-5 div.sk-label label {\n",
              "  /* The background is the default theme color */\n",
              "  color: var(--sklearn-color-text-on-default-background);\n",
              "}\n",
              "\n",
              "/* On hover, darken the color of the background */\n",
              "#sk-container-id-5 div.sk-label:hover label.sk-toggleable__label {\n",
              "  color: var(--sklearn-color-text);\n",
              "  background-color: var(--sklearn-color-unfitted-level-2);\n",
              "}\n",
              "\n",
              "/* Label box, darken color on hover, fitted */\n",
              "#sk-container-id-5 div.sk-label.fitted:hover label.sk-toggleable__label.fitted {\n",
              "  color: var(--sklearn-color-text);\n",
              "  background-color: var(--sklearn-color-fitted-level-2);\n",
              "}\n",
              "\n",
              "/* Estimator label */\n",
              "\n",
              "#sk-container-id-5 div.sk-label label {\n",
              "  font-family: monospace;\n",
              "  font-weight: bold;\n",
              "  display: inline-block;\n",
              "  line-height: 1.2em;\n",
              "}\n",
              "\n",
              "#sk-container-id-5 div.sk-label-container {\n",
              "  text-align: center;\n",
              "}\n",
              "\n",
              "/* Estimator-specific */\n",
              "#sk-container-id-5 div.sk-estimator {\n",
              "  font-family: monospace;\n",
              "  border: 1px dotted var(--sklearn-color-border-box);\n",
              "  border-radius: 0.25em;\n",
              "  box-sizing: border-box;\n",
              "  margin-bottom: 0.5em;\n",
              "  /* unfitted */\n",
              "  background-color: var(--sklearn-color-unfitted-level-0);\n",
              "}\n",
              "\n",
              "#sk-container-id-5 div.sk-estimator.fitted {\n",
              "  /* fitted */\n",
              "  background-color: var(--sklearn-color-fitted-level-0);\n",
              "}\n",
              "\n",
              "/* on hover */\n",
              "#sk-container-id-5 div.sk-estimator:hover {\n",
              "  /* unfitted */\n",
              "  background-color: var(--sklearn-color-unfitted-level-2);\n",
              "}\n",
              "\n",
              "#sk-container-id-5 div.sk-estimator.fitted:hover {\n",
              "  /* fitted */\n",
              "  background-color: var(--sklearn-color-fitted-level-2);\n",
              "}\n",
              "\n",
              "/* Specification for estimator info (e.g. \"i\" and \"?\") */\n",
              "\n",
              "/* Common style for \"i\" and \"?\" */\n",
              "\n",
              ".sk-estimator-doc-link,\n",
              "a:link.sk-estimator-doc-link,\n",
              "a:visited.sk-estimator-doc-link {\n",
              "  float: right;\n",
              "  font-size: smaller;\n",
              "  line-height: 1em;\n",
              "  font-family: monospace;\n",
              "  background-color: var(--sklearn-color-background);\n",
              "  border-radius: 1em;\n",
              "  height: 1em;\n",
              "  width: 1em;\n",
              "  text-decoration: none !important;\n",
              "  margin-left: 0.5em;\n",
              "  text-align: center;\n",
              "  /* unfitted */\n",
              "  border: var(--sklearn-color-unfitted-level-1) 1pt solid;\n",
              "  color: var(--sklearn-color-unfitted-level-1);\n",
              "}\n",
              "\n",
              ".sk-estimator-doc-link.fitted,\n",
              "a:link.sk-estimator-doc-link.fitted,\n",
              "a:visited.sk-estimator-doc-link.fitted {\n",
              "  /* fitted */\n",
              "  border: var(--sklearn-color-fitted-level-1) 1pt solid;\n",
              "  color: var(--sklearn-color-fitted-level-1);\n",
              "}\n",
              "\n",
              "/* On hover */\n",
              "div.sk-estimator:hover .sk-estimator-doc-link:hover,\n",
              ".sk-estimator-doc-link:hover,\n",
              "div.sk-label-container:hover .sk-estimator-doc-link:hover,\n",
              ".sk-estimator-doc-link:hover {\n",
              "  /* unfitted */\n",
              "  background-color: var(--sklearn-color-unfitted-level-3);\n",
              "  color: var(--sklearn-color-background);\n",
              "  text-decoration: none;\n",
              "}\n",
              "\n",
              "div.sk-estimator.fitted:hover .sk-estimator-doc-link.fitted:hover,\n",
              ".sk-estimator-doc-link.fitted:hover,\n",
              "div.sk-label-container:hover .sk-estimator-doc-link.fitted:hover,\n",
              ".sk-estimator-doc-link.fitted:hover {\n",
              "  /* fitted */\n",
              "  background-color: var(--sklearn-color-fitted-level-3);\n",
              "  color: var(--sklearn-color-background);\n",
              "  text-decoration: none;\n",
              "}\n",
              "\n",
              "/* Span, style for the box shown on hovering the info icon */\n",
              ".sk-estimator-doc-link span {\n",
              "  display: none;\n",
              "  z-index: 9999;\n",
              "  position: relative;\n",
              "  font-weight: normal;\n",
              "  right: .2ex;\n",
              "  padding: .5ex;\n",
              "  margin: .5ex;\n",
              "  width: min-content;\n",
              "  min-width: 20ex;\n",
              "  max-width: 50ex;\n",
              "  color: var(--sklearn-color-text);\n",
              "  box-shadow: 2pt 2pt 4pt #999;\n",
              "  /* unfitted */\n",
              "  background: var(--sklearn-color-unfitted-level-0);\n",
              "  border: .5pt solid var(--sklearn-color-unfitted-level-3);\n",
              "}\n",
              "\n",
              ".sk-estimator-doc-link.fitted span {\n",
              "  /* fitted */\n",
              "  background: var(--sklearn-color-fitted-level-0);\n",
              "  border: var(--sklearn-color-fitted-level-3);\n",
              "}\n",
              "\n",
              ".sk-estimator-doc-link:hover span {\n",
              "  display: block;\n",
              "}\n",
              "\n",
              "/* \"?\"-specific style due to the `<a>` HTML tag */\n",
              "\n",
              "#sk-container-id-5 a.estimator_doc_link {\n",
              "  float: right;\n",
              "  font-size: 1rem;\n",
              "  line-height: 1em;\n",
              "  font-family: monospace;\n",
              "  background-color: var(--sklearn-color-background);\n",
              "  border-radius: 1rem;\n",
              "  height: 1rem;\n",
              "  width: 1rem;\n",
              "  text-decoration: none;\n",
              "  /* unfitted */\n",
              "  color: var(--sklearn-color-unfitted-level-1);\n",
              "  border: var(--sklearn-color-unfitted-level-1) 1pt solid;\n",
              "}\n",
              "\n",
              "#sk-container-id-5 a.estimator_doc_link.fitted {\n",
              "  /* fitted */\n",
              "  border: var(--sklearn-color-fitted-level-1) 1pt solid;\n",
              "  color: var(--sklearn-color-fitted-level-1);\n",
              "}\n",
              "\n",
              "/* On hover */\n",
              "#sk-container-id-5 a.estimator_doc_link:hover {\n",
              "  /* unfitted */\n",
              "  background-color: var(--sklearn-color-unfitted-level-3);\n",
              "  color: var(--sklearn-color-background);\n",
              "  text-decoration: none;\n",
              "}\n",
              "\n",
              "#sk-container-id-5 a.estimator_doc_link.fitted:hover {\n",
              "  /* fitted */\n",
              "  background-color: var(--sklearn-color-fitted-level-3);\n",
              "}\n",
              "</style><div id=\"sk-container-id-5\" class=\"sk-top-container\"><div class=\"sk-text-repr-fallback\"><pre>RandomForestClassifier(min_samples_leaf=2, n_estimators=300, random_state=42)</pre><b>In a Jupyter environment, please rerun this cell to show the HTML representation or trust the notebook. <br />On GitHub, the HTML representation is unable to render, please try loading this page with nbviewer.org.</b></div><div class=\"sk-container\" hidden><div class=\"sk-item\"><div class=\"sk-estimator fitted sk-toggleable\"><input class=\"sk-toggleable__control sk-hidden--visually\" id=\"sk-estimator-id-5\" type=\"checkbox\" checked><label for=\"sk-estimator-id-5\" class=\"sk-toggleable__label fitted sk-toggleable__label-arrow\"><div><div>RandomForestClassifier</div></div><div><a class=\"sk-estimator-doc-link fitted\" rel=\"noreferrer\" target=\"_blank\" href=\"https://scikit-learn.org/1.6/modules/generated/sklearn.ensemble.RandomForestClassifier.html\">?<span>Documentation for RandomForestClassifier</span></a><span class=\"sk-estimator-doc-link fitted\">i<span>Fitted</span></span></div></label><div class=\"sk-toggleable__content fitted\"><pre>RandomForestClassifier(min_samples_leaf=2, n_estimators=300, random_state=42)</pre></div> </div></div></div></div>"
            ]
          },
          "metadata": {},
          "execution_count": 325
        }
      ]
    },
    {
      "cell_type": "code",
      "source": [
        "# Evaluate the tuned model on the testing set\n",
        "y_test_pred_tuned = best_model.predict(X_test)\n",
        "\n",
        "print(f\"Tuned Model Validation Accuracy: {accuracy_score(y_test, y_test_pred_tuned):.2f}\")\n",
        "print(f\"Tuned Model Validation F1-Score (weighted): {f1_score(y_test, y_test_pred_tuned, average='weighted'):.2f}\")"
      ],
      "metadata": {
        "colab": {
          "base_uri": "https://localhost:8080/"
        },
        "id": "3bNT7H9oUzZC",
        "outputId": "cb2bda32-d6c3-4f71-a3a3-a9b2e18cd473"
      },
      "execution_count": 326,
      "outputs": [
        {
          "output_type": "stream",
          "name": "stdout",
          "text": [
            "Tuned Model Validation Accuracy: 0.65\n",
            "Tuned Model Validation F1-Score (weighted): 0.61\n"
          ]
        }
      ]
    },
    {
      "cell_type": "markdown",
      "source": [
        "### Predict on unknown data\n",
        "\n",
        "#### Use the trained model to predict `product_category` for the data where it was originally 'Unknown'"
      ],
      "metadata": {
        "id": "FgnglJ0YRnvf"
      }
    },
    {
      "cell_type": "code",
      "source": [
        "unknown_category_data = merged_data[merged_data['product_category_Unknown'] == True].copy()\n",
        "X_unknown = unknown_category_data.drop(columns=['customer_id_new', 'customer_id'] +\n",
        "                                       [col for col in unknown_category_data.columns if col.startswith('product_category')])\n",
        "predicted_categories = best_model.predict(X_unknown)\n",
        "unknown_category_data['predicted_product_category'] = predicted_categories\n",
        "display(unknown_category_data[['customer_id_new', 'predicted_product_category']])"
      ],
      "metadata": {
        "colab": {
          "base_uri": "https://localhost:8080/",
          "height": 771
        },
        "id": "NnvAjy68RNX0",
        "outputId": "68927c4f-9e16-4120-ef36-e11ceba7a25c"
      },
      "execution_count": 327,
      "outputs": [
        {
          "output_type": "display_data",
          "data": {
            "text/plain": [
              "   customer_id_new predicted_product_category\n",
              "8             A109     product_category_Books\n",
              "10            A112     product_category_Books\n",
              "13            A115     product_category_Books\n",
              "14            A116     product_category_Books\n",
              "16            A118     product_category_Books\n",
              "20            A124     product_category_Books\n",
              "22            A126     product_category_Books\n",
              "26            A131     product_category_Books\n",
              "35            A142     product_category_Books\n",
              "38            A145     product_category_Books\n",
              "47            A155     product_category_Books\n",
              "48            A156     product_category_Books\n",
              "53            A165     product_category_Books\n",
              "54            A166     product_category_Books\n",
              "55            A167     product_category_Books\n",
              "56            A168     product_category_Books\n",
              "57            A169     product_category_Books\n",
              "61            A176     product_category_Books\n",
              "63            A178     product_category_Books\n",
              "77            A193     product_category_Books\n",
              "79            A195     product_category_Books\n",
              "80            A196     product_category_Books\n",
              "81            A197     product_category_Books"
            ],
            "text/html": [
              "\n",
              "  <div id=\"df-6be4a844-c98f-4d1f-8498-06e918c38bf0\" class=\"colab-df-container\">\n",
              "    <div>\n",
              "<style scoped>\n",
              "    .dataframe tbody tr th:only-of-type {\n",
              "        vertical-align: middle;\n",
              "    }\n",
              "\n",
              "    .dataframe tbody tr th {\n",
              "        vertical-align: top;\n",
              "    }\n",
              "\n",
              "    .dataframe thead th {\n",
              "        text-align: right;\n",
              "    }\n",
              "</style>\n",
              "<table border=\"1\" class=\"dataframe\">\n",
              "  <thead>\n",
              "    <tr style=\"text-align: right;\">\n",
              "      <th></th>\n",
              "      <th>customer_id_new</th>\n",
              "      <th>predicted_product_category</th>\n",
              "    </tr>\n",
              "  </thead>\n",
              "  <tbody>\n",
              "    <tr>\n",
              "      <th>8</th>\n",
              "      <td>A109</td>\n",
              "      <td>product_category_Books</td>\n",
              "    </tr>\n",
              "    <tr>\n",
              "      <th>10</th>\n",
              "      <td>A112</td>\n",
              "      <td>product_category_Books</td>\n",
              "    </tr>\n",
              "    <tr>\n",
              "      <th>13</th>\n",
              "      <td>A115</td>\n",
              "      <td>product_category_Books</td>\n",
              "    </tr>\n",
              "    <tr>\n",
              "      <th>14</th>\n",
              "      <td>A116</td>\n",
              "      <td>product_category_Books</td>\n",
              "    </tr>\n",
              "    <tr>\n",
              "      <th>16</th>\n",
              "      <td>A118</td>\n",
              "      <td>product_category_Books</td>\n",
              "    </tr>\n",
              "    <tr>\n",
              "      <th>20</th>\n",
              "      <td>A124</td>\n",
              "      <td>product_category_Books</td>\n",
              "    </tr>\n",
              "    <tr>\n",
              "      <th>22</th>\n",
              "      <td>A126</td>\n",
              "      <td>product_category_Books</td>\n",
              "    </tr>\n",
              "    <tr>\n",
              "      <th>26</th>\n",
              "      <td>A131</td>\n",
              "      <td>product_category_Books</td>\n",
              "    </tr>\n",
              "    <tr>\n",
              "      <th>35</th>\n",
              "      <td>A142</td>\n",
              "      <td>product_category_Books</td>\n",
              "    </tr>\n",
              "    <tr>\n",
              "      <th>38</th>\n",
              "      <td>A145</td>\n",
              "      <td>product_category_Books</td>\n",
              "    </tr>\n",
              "    <tr>\n",
              "      <th>47</th>\n",
              "      <td>A155</td>\n",
              "      <td>product_category_Books</td>\n",
              "    </tr>\n",
              "    <tr>\n",
              "      <th>48</th>\n",
              "      <td>A156</td>\n",
              "      <td>product_category_Books</td>\n",
              "    </tr>\n",
              "    <tr>\n",
              "      <th>53</th>\n",
              "      <td>A165</td>\n",
              "      <td>product_category_Books</td>\n",
              "    </tr>\n",
              "    <tr>\n",
              "      <th>54</th>\n",
              "      <td>A166</td>\n",
              "      <td>product_category_Books</td>\n",
              "    </tr>\n",
              "    <tr>\n",
              "      <th>55</th>\n",
              "      <td>A167</td>\n",
              "      <td>product_category_Books</td>\n",
              "    </tr>\n",
              "    <tr>\n",
              "      <th>56</th>\n",
              "      <td>A168</td>\n",
              "      <td>product_category_Books</td>\n",
              "    </tr>\n",
              "    <tr>\n",
              "      <th>57</th>\n",
              "      <td>A169</td>\n",
              "      <td>product_category_Books</td>\n",
              "    </tr>\n",
              "    <tr>\n",
              "      <th>61</th>\n",
              "      <td>A176</td>\n",
              "      <td>product_category_Books</td>\n",
              "    </tr>\n",
              "    <tr>\n",
              "      <th>63</th>\n",
              "      <td>A178</td>\n",
              "      <td>product_category_Books</td>\n",
              "    </tr>\n",
              "    <tr>\n",
              "      <th>77</th>\n",
              "      <td>A193</td>\n",
              "      <td>product_category_Books</td>\n",
              "    </tr>\n",
              "    <tr>\n",
              "      <th>79</th>\n",
              "      <td>A195</td>\n",
              "      <td>product_category_Books</td>\n",
              "    </tr>\n",
              "    <tr>\n",
              "      <th>80</th>\n",
              "      <td>A196</td>\n",
              "      <td>product_category_Books</td>\n",
              "    </tr>\n",
              "    <tr>\n",
              "      <th>81</th>\n",
              "      <td>A197</td>\n",
              "      <td>product_category_Books</td>\n",
              "    </tr>\n",
              "  </tbody>\n",
              "</table>\n",
              "</div>\n",
              "    <div class=\"colab-df-buttons\">\n",
              "\n",
              "  <div class=\"colab-df-container\">\n",
              "    <button class=\"colab-df-convert\" onclick=\"convertToInteractive('df-6be4a844-c98f-4d1f-8498-06e918c38bf0')\"\n",
              "            title=\"Convert this dataframe to an interactive table.\"\n",
              "            style=\"display:none;\">\n",
              "\n",
              "  <svg xmlns=\"http://www.w3.org/2000/svg\" height=\"24px\" viewBox=\"0 -960 960 960\">\n",
              "    <path d=\"M120-120v-720h720v720H120Zm60-500h600v-160H180v160Zm220 220h160v-160H400v160Zm0 220h160v-160H400v160ZM180-400h160v-160H180v160Zm440 0h160v-160H620v160ZM180-180h160v-160H180v160Zm440 0h160v-160H620v160Z\"/>\n",
              "  </svg>\n",
              "    </button>\n",
              "\n",
              "  <style>\n",
              "    .colab-df-container {\n",
              "      display:flex;\n",
              "      gap: 12px;\n",
              "    }\n",
              "\n",
              "    .colab-df-convert {\n",
              "      background-color: #E8F0FE;\n",
              "      border: none;\n",
              "      border-radius: 50%;\n",
              "      cursor: pointer;\n",
              "      display: none;\n",
              "      fill: #1967D2;\n",
              "      height: 32px;\n",
              "      padding: 0 0 0 0;\n",
              "      width: 32px;\n",
              "    }\n",
              "\n",
              "    .colab-df-convert:hover {\n",
              "      background-color: #E2EBFA;\n",
              "      box-shadow: 0px 1px 2px rgba(60, 64, 67, 0.3), 0px 1px 3px 1px rgba(60, 64, 67, 0.15);\n",
              "      fill: #174EA6;\n",
              "    }\n",
              "\n",
              "    .colab-df-buttons div {\n",
              "      margin-bottom: 4px;\n",
              "    }\n",
              "\n",
              "    [theme=dark] .colab-df-convert {\n",
              "      background-color: #3B4455;\n",
              "      fill: #D2E3FC;\n",
              "    }\n",
              "\n",
              "    [theme=dark] .colab-df-convert:hover {\n",
              "      background-color: #434B5C;\n",
              "      box-shadow: 0px 1px 3px 1px rgba(0, 0, 0, 0.15);\n",
              "      filter: drop-shadow(0px 1px 2px rgba(0, 0, 0, 0.3));\n",
              "      fill: #FFFFFF;\n",
              "    }\n",
              "  </style>\n",
              "\n",
              "    <script>\n",
              "      const buttonEl =\n",
              "        document.querySelector('#df-6be4a844-c98f-4d1f-8498-06e918c38bf0 button.colab-df-convert');\n",
              "      buttonEl.style.display =\n",
              "        google.colab.kernel.accessAllowed ? 'block' : 'none';\n",
              "\n",
              "      async function convertToInteractive(key) {\n",
              "        const element = document.querySelector('#df-6be4a844-c98f-4d1f-8498-06e918c38bf0');\n",
              "        const dataTable =\n",
              "          await google.colab.kernel.invokeFunction('convertToInteractive',\n",
              "                                                    [key], {});\n",
              "        if (!dataTable) return;\n",
              "\n",
              "        const docLinkHtml = 'Like what you see? Visit the ' +\n",
              "          '<a target=\"_blank\" href=https://colab.research.google.com/notebooks/data_table.ipynb>data table notebook</a>'\n",
              "          + ' to learn more about interactive tables.';\n",
              "        element.innerHTML = '';\n",
              "        dataTable['output_type'] = 'display_data';\n",
              "        await google.colab.output.renderOutput(dataTable, element);\n",
              "        const docLink = document.createElement('div');\n",
              "        docLink.innerHTML = docLinkHtml;\n",
              "        element.appendChild(docLink);\n",
              "      }\n",
              "    </script>\n",
              "  </div>\n",
              "\n",
              "\n",
              "    <div id=\"df-d0bf2297-36a7-418b-af51-847504fb8e98\">\n",
              "      <button class=\"colab-df-quickchart\" onclick=\"quickchart('df-d0bf2297-36a7-418b-af51-847504fb8e98')\"\n",
              "                title=\"Suggest charts\"\n",
              "                style=\"display:none;\">\n",
              "\n",
              "<svg xmlns=\"http://www.w3.org/2000/svg\" height=\"24px\"viewBox=\"0 0 24 24\"\n",
              "     width=\"24px\">\n",
              "    <g>\n",
              "        <path d=\"M19 3H5c-1.1 0-2 .9-2 2v14c0 1.1.9 2 2 2h14c1.1 0 2-.9 2-2V5c0-1.1-.9-2-2-2zM9 17H7v-7h2v7zm4 0h-2V7h2v10zm4 0h-2v-4h2v4z\"/>\n",
              "    </g>\n",
              "</svg>\n",
              "      </button>\n",
              "\n",
              "<style>\n",
              "  .colab-df-quickchart {\n",
              "      --bg-color: #E8F0FE;\n",
              "      --fill-color: #1967D2;\n",
              "      --hover-bg-color: #E2EBFA;\n",
              "      --hover-fill-color: #174EA6;\n",
              "      --disabled-fill-color: #AAA;\n",
              "      --disabled-bg-color: #DDD;\n",
              "  }\n",
              "\n",
              "  [theme=dark] .colab-df-quickchart {\n",
              "      --bg-color: #3B4455;\n",
              "      --fill-color: #D2E3FC;\n",
              "      --hover-bg-color: #434B5C;\n",
              "      --hover-fill-color: #FFFFFF;\n",
              "      --disabled-bg-color: #3B4455;\n",
              "      --disabled-fill-color: #666;\n",
              "  }\n",
              "\n",
              "  .colab-df-quickchart {\n",
              "    background-color: var(--bg-color);\n",
              "    border: none;\n",
              "    border-radius: 50%;\n",
              "    cursor: pointer;\n",
              "    display: none;\n",
              "    fill: var(--fill-color);\n",
              "    height: 32px;\n",
              "    padding: 0;\n",
              "    width: 32px;\n",
              "  }\n",
              "\n",
              "  .colab-df-quickchart:hover {\n",
              "    background-color: var(--hover-bg-color);\n",
              "    box-shadow: 0 1px 2px rgba(60, 64, 67, 0.3), 0 1px 3px 1px rgba(60, 64, 67, 0.15);\n",
              "    fill: var(--button-hover-fill-color);\n",
              "  }\n",
              "\n",
              "  .colab-df-quickchart-complete:disabled,\n",
              "  .colab-df-quickchart-complete:disabled:hover {\n",
              "    background-color: var(--disabled-bg-color);\n",
              "    fill: var(--disabled-fill-color);\n",
              "    box-shadow: none;\n",
              "  }\n",
              "\n",
              "  .colab-df-spinner {\n",
              "    border: 2px solid var(--fill-color);\n",
              "    border-color: transparent;\n",
              "    border-bottom-color: var(--fill-color);\n",
              "    animation:\n",
              "      spin 1s steps(1) infinite;\n",
              "  }\n",
              "\n",
              "  @keyframes spin {\n",
              "    0% {\n",
              "      border-color: transparent;\n",
              "      border-bottom-color: var(--fill-color);\n",
              "      border-left-color: var(--fill-color);\n",
              "    }\n",
              "    20% {\n",
              "      border-color: transparent;\n",
              "      border-left-color: var(--fill-color);\n",
              "      border-top-color: var(--fill-color);\n",
              "    }\n",
              "    30% {\n",
              "      border-color: transparent;\n",
              "      border-left-color: var(--fill-color);\n",
              "      border-top-color: var(--fill-color);\n",
              "      border-right-color: var(--fill-color);\n",
              "    }\n",
              "    40% {\n",
              "      border-color: transparent;\n",
              "      border-right-color: var(--fill-color);\n",
              "      border-top-color: var(--fill-color);\n",
              "    }\n",
              "    60% {\n",
              "      border-color: transparent;\n",
              "      border-right-color: var(--fill-color);\n",
              "    }\n",
              "    80% {\n",
              "      border-color: transparent;\n",
              "      border-right-color: var(--fill-color);\n",
              "      border-bottom-color: var(--fill-color);\n",
              "    }\n",
              "    90% {\n",
              "      border-color: transparent;\n",
              "      border-bottom-color: var(--fill-color);\n",
              "    }\n",
              "  }\n",
              "</style>\n",
              "\n",
              "      <script>\n",
              "        async function quickchart(key) {\n",
              "          const quickchartButtonEl =\n",
              "            document.querySelector('#' + key + ' button');\n",
              "          quickchartButtonEl.disabled = true;  // To prevent multiple clicks.\n",
              "          quickchartButtonEl.classList.add('colab-df-spinner');\n",
              "          try {\n",
              "            const charts = await google.colab.kernel.invokeFunction(\n",
              "                'suggestCharts', [key], {});\n",
              "          } catch (error) {\n",
              "            console.error('Error during call to suggestCharts:', error);\n",
              "          }\n",
              "          quickchartButtonEl.classList.remove('colab-df-spinner');\n",
              "          quickchartButtonEl.classList.add('colab-df-quickchart-complete');\n",
              "        }\n",
              "        (() => {\n",
              "          let quickchartButtonEl =\n",
              "            document.querySelector('#df-d0bf2297-36a7-418b-af51-847504fb8e98 button');\n",
              "          quickchartButtonEl.style.display =\n",
              "            google.colab.kernel.accessAllowed ? 'block' : 'none';\n",
              "        })();\n",
              "      </script>\n",
              "    </div>\n",
              "\n",
              "    </div>\n",
              "  </div>\n"
            ],
            "application/vnd.google.colaboratory.intrinsic+json": {
              "type": "dataframe",
              "summary": "{\n  \"name\": \"display(unknown_category_data[['customer_id_new', 'predicted_product_category']])\",\n  \"rows\": 23,\n  \"fields\": [\n    {\n      \"column\": \"customer_id_new\",\n      \"properties\": {\n        \"dtype\": \"string\",\n        \"num_unique_values\": 23,\n        \"samples\": [\n          \"A168\",\n          \"A145\",\n          \"A109\"\n        ],\n        \"semantic_type\": \"\",\n        \"description\": \"\"\n      }\n    },\n    {\n      \"column\": \"predicted_product_category\",\n      \"properties\": {\n        \"dtype\": \"category\",\n        \"num_unique_values\": 1,\n        \"samples\": [\n          \"product_category_Books\"\n        ],\n        \"semantic_type\": \"\",\n        \"description\": \"\"\n      }\n    }\n  ]\n}"
            }
          },
          "metadata": {}
        }
      ]
    },
    {
      "cell_type": "markdown",
      "source": [
        "### Feature Importance"
      ],
      "metadata": {
        "id": "4D8xY7BeomiK"
      }
    },
    {
      "cell_type": "code",
      "source": [
        "# Feature importance\n",
        "feature_importance = pd.DataFrame({\n",
        "    'feature': X_train.columns,\n",
        "    'importance': best_model.feature_importances_\n",
        "}).sort_values('importance', ascending=False)\n",
        "print(\"Feature Importance:\")\n",
        "print(feature_importance)"
      ],
      "metadata": {
        "colab": {
          "base_uri": "https://localhost:8080/"
        },
        "id": "Th2ZzGge9fx8",
        "outputId": "11502812-dffc-4c9a-a935-3885893b5bdb"
      },
      "execution_count": 328,
      "outputs": [
        {
          "output_type": "stream",
          "name": "stdout",
          "text": [
            "Feature Importance:\n",
            "                            feature  importance\n",
            "3                   purchase_amount    0.170852\n",
            "14               purchase_date_days    0.151617\n",
            "5      avg_purchase_per_transaction    0.150492\n",
            "1           purchase_interest_score    0.110184\n",
            "2                 transaction_count    0.103354\n",
            "4                   customer_rating    0.101715\n",
            "0                  engagement_score    0.085696\n",
            "10  social_media_platform_Instagram    0.019299\n",
            "7          review_sentiment_Neutral    0.018533\n",
            "11   social_media_platform_LinkedIn    0.018422\n",
            "13    social_media_platform_Twitter    0.017265\n",
            "9    social_media_platform_Facebook    0.017118\n",
            "8         review_sentiment_Positive    0.014524\n",
            "6         review_sentiment_Negative    0.014005\n",
            "12     social_media_platform_TikTok    0.006924\n"
          ]
        }
      ]
    },
    {
      "cell_type": "markdown",
      "source": [
        "### Save Model"
      ],
      "metadata": {
        "id": "hgTuZoIxnQwN"
      }
    },
    {
      "cell_type": "code",
      "source": [
        "# Save Model\n",
        "joblib.dump(best_model, 'product_recommendation_model.pkl')"
      ],
      "metadata": {
        "id": "TElWs-Qt9xQC",
        "colab": {
          "base_uri": "https://localhost:8080/"
        },
        "outputId": "39311d2d-85c5-485a-c45d-6bca6e0fff5f"
      },
      "execution_count": 329,
      "outputs": [
        {
          "output_type": "execute_result",
          "data": {
            "text/plain": [
              "['product_recommendation_model.pkl']"
            ]
          },
          "metadata": {},
          "execution_count": 329
        }
      ]
    },
    {
      "cell_type": "markdown",
      "metadata": {
        "id": "c6280d1f"
      },
      "source": [
        "### Predict on New Sample Data\n",
        "\n",
        "#### Create a sample new data point and predict its product category using the trained model."
      ]
    },
    {
      "cell_type": "code",
      "metadata": {
        "colab": {
          "base_uri": "https://localhost:8080/"
        },
        "id": "39315c34",
        "outputId": "a42d3f78-6efd-4ebb-9a8f-ae1951a879ec"
      },
      "source": [
        "new_customer_data = {\n",
        "    'engagement_score': [80],\n",
        "    'purchase_interest_score': [4.5],\n",
        "    'transaction_count': [3],\n",
        "    'purchase_amount': [100],\n",
        "    'customer_rating': [4.0],\n",
        "    'avg_purchase_per_transaction': [116.67],\n",
        "    'review_sentiment_Negative': [True],\n",
        "    'review_sentiment_Neutral': [False],\n",
        "    'review_sentiment_Positive': [True],\n",
        "    'social_media_platform_Facebook': [True],\n",
        "    'social_media_platform_Instagram': [False],\n",
        "    'social_media_platform_LinkedIn': [False],\n",
        "    'social_media_platform_TikTok': [True],\n",
        "    'social_media_platform_Twitter': [False],\n",
        "    'purchase_date_days': [100]\n",
        "}\n",
        "\n",
        "new_customer_df = pd.DataFrame(new_customer_data)\n",
        "\n",
        "# Scale the numeric columns using the same scaler fitted on the training data\n",
        "numeric_cols_new = ['engagement_score', 'purchase_interest_score', 'purchase_amount',\n",
        "                'customer_rating', 'avg_purchase_per_transaction', 'purchase_date_days']\n",
        "\n",
        "new_customer_df[numeric_cols_new] = scaler.transform(new_customer_df[numeric_cols_new])\n",
        "\n",
        "# Reindex the new data to match the columns of X_train and fill missing columns with 0\n",
        "new_customer_df = new_customer_df.reindex(columns=X_train.columns, fill_value=0)\n",
        "\n",
        "# Predict the product category for the new customer\n",
        "predicted_category_new = best_model.predict(new_customer_df)\n",
        "\n",
        "print(f\"Predicted product category for the new customer: {predicted_category_new[0]}\")"
      ],
      "execution_count": 330,
      "outputs": [
        {
          "output_type": "stream",
          "name": "stdout",
          "text": [
            "Predicted product category for the new customer: product_category_Electronics\n"
          ]
        }
      ]
    },
    {
      "cell_type": "markdown",
      "metadata": {
        "id": "cb5f76dd"
      },
      "source": [
        "### Predict on a Real Data Point\n",
        "\n",
        "#### Randomly select a row from the `merged_data`, prepare it for prediction, and compare the prediction to the actual product category"
      ]
    },
    {
      "cell_type": "code",
      "metadata": {
        "colab": {
          "base_uri": "https://localhost:8080/"
        },
        "id": "571373bc",
        "outputId": "3c970750-573b-4ae3-ab4b-7bed4e4c74c1"
      },
      "source": [
        "random_index = merged_data.sample(n=1).index[0]\n",
        "real_customer_data = merged_data.loc[[random_index]].copy()\n",
        "\n",
        "actual_product_category = y.loc[random_index]\n",
        "\n",
        "real_customer_features = real_customer_data.drop(columns=['customer_id_new', 'customer_id'] +\n",
        "                                       [col for col in merged_data.columns if col.startswith('product_category')])\n",
        "\n",
        "real_customer_features = real_customer_features.reindex(columns=X_train.columns, fill_value=0)\n",
        "\n",
        "# Predict the product category for the real customer data\n",
        "predicted_category_real = best_model.predict(real_customer_features)\n",
        "\n",
        "print(f\"Actual product category for the selected row: {actual_product_category}\")\n",
        "print(f\"Predicted product category for the selected row: {predicted_category_real[0]}\")"
      ],
      "execution_count": 331,
      "outputs": [
        {
          "output_type": "stream",
          "name": "stdout",
          "text": [
            "Actual product category for the selected row: product_category_Books\n",
            "Predicted product category for the selected row: product_category_Books\n"
          ]
        }
      ]
    }
  ]
}